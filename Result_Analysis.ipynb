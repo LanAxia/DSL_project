{
 "cells": [
  {
   "cell_type": "markdown",
   "metadata": {},
   "source": [
    "# Result Analysis"
   ]
  },
  {
   "cell_type": "markdown",
   "metadata": {},
   "source": [
    "## import libraries"
   ]
  },
  {
   "cell_type": "code",
   "execution_count": 1,
   "metadata": {},
   "outputs": [],
   "source": [
    "# import libraries\n",
    "import numpy as np\n",
    "import pandas as pd\n",
    "from tqdm import tqdm\n",
    "from collections import Counter\n",
    "\n",
    "import sklearn\n",
    "from sklearn.model_selection import train_test_split, KFold\n",
    "from sklearn.linear_model import Ridge\n",
    "from sklearn.svm import SVR\n",
    "from sklearn.tree import DecisionTreeRegressor\n",
    "from sklearn.ensemble import AdaBoostRegressor\n",
    "from sklearn.metrics import f1_score, precision_score, recall_score, roc_auc_score, mean_squared_error, mean_absolute_error\n",
    "\n",
    "from catboost import CatBoostRegressor\n",
    "\n",
    "import torch\n",
    "import torch.nn as nn\n",
    "from torch.utils.data import Dataset, DataLoader\n",
    "import torch.nn.functional as F\n",
    "import torch.optim as optim\n",
    "\n",
    "from transformers import BertTokenizerFast, BertModel\n",
    "\n",
    "\n",
    "# 导入其他文件\n",
    "from extract_features import load_features\n",
    "from models import BioNN, BioDeepNN, BioResNet\n",
    "from Model_Training import PeptidesDataLoader\n",
    "\n",
    "# constant\n",
    "SAVE = True\n",
    "device = torch.device(\"cuda\") if torch.cuda.is_available() else torch.device(\"cpu\")"
   ]
  },
  {
   "cell_type": "markdown",
   "metadata": {},
   "source": [
    "## 分析所有模型的指标"
   ]
  },
  {
   "cell_type": "code",
   "execution_count": 4,
   "metadata": {},
   "outputs": [],
   "source": [
    "lr_rg_error = np.load(\"./Result/lr_rg_error.npy\").mean(axis=0)\n",
    "lr_cl_error = np.load(\"./Result/lr_cl_error.npy\").mean(axis=0)\n",
    "dtr_rg_error = np.load(\"./Result/dtr_rg_error.npy\").mean(axis=0)\n",
    "dtr_cl_error = np.load(\"./Result/dtr_cl_error.npy\").mean(axis=0)\n",
    "cat_rg_error = np.load(\"./Result/cat_rg_error.npy\").mean(axis=0)\n",
    "cat_cl_error = np.load(\"./Result/cat_cl_error.npy\").mean(axis=0)\n",
    "\n",
    "nn_rg_error = np.load(\"./Result/nn_rg_error.npy\").mean(axis=0)\n",
    "nn_cl_error = np.load(\"./Result/nn_cl_error.npy\").mean(axis=0)\n",
    "bionn_rg_error = np.load(\"./Result/BioNN_rg_error.npy\")\n",
    "bionn_cl_error = np.load(\"./Result/BioNN_cl_error.npy\")\n",
    "biodnn_rg_error = np.load(\"./Result/biodnn_rg_error.npy\")\n",
    "biodnn_cl_error = np.load(\"./Result/biodnn_cl_error.npy\")\n",
    "biores_rg_error = np.load(\"./Result/biores_rg_error.npy\")\n",
    "biores_cl_error = np.load(\"./Result/biores_cl_error.npy\")\n",
    "\n",
    "# rg_errors = np.stack([lr_rg_error, dtr_rg_error, cat_rg_error, bionn_rg_error, biodnn_rg_error, biores_rg_error], axis=0)\n",
    "# cl_errors = np.stack([lr_cl_error, dtr_cl_error, cat_cl_error, bionn_cl_error, biodnn_cl_error, biores_cl_error], axis=0)\n",
    "rg_errors = np.stack([lr_rg_error, dtr_rg_error, cat_rg_error, nn_rg_error, bionn_rg_error, biodnn_rg_error, biores_rg_error], axis=0)\n",
    "cl_errors = np.stack([lr_cl_error, dtr_cl_error, cat_cl_error, nn_cl_error, bionn_cl_error, biodnn_cl_error, biores_cl_error], axis=0)"
   ]
  },
  {
   "cell_type": "code",
   "execution_count": 5,
   "metadata": {},
   "outputs": [
    {
     "data": {
      "text/html": [
       "<div>\n",
       "<style scoped>\n",
       "    .dataframe tbody tr th:only-of-type {\n",
       "        vertical-align: middle;\n",
       "    }\n",
       "\n",
       "    .dataframe tbody tr th {\n",
       "        vertical-align: top;\n",
       "    }\n",
       "\n",
       "    .dataframe thead th {\n",
       "        text-align: right;\n",
       "    }\n",
       "</style>\n",
       "<table border=\"1\" class=\"dataframe\">\n",
       "  <thead>\n",
       "    <tr style=\"text-align: right;\">\n",
       "      <th></th>\n",
       "      <th>MSE</th>\n",
       "      <th>MAE</th>\n",
       "      <th>RMSE</th>\n",
       "    </tr>\n",
       "  </thead>\n",
       "  <tbody>\n",
       "    <tr>\n",
       "      <th>Linear Regression</th>\n",
       "      <td>0.512977</td>\n",
       "      <td>0.557640</td>\n",
       "      <td>0.712983</td>\n",
       "    </tr>\n",
       "    <tr>\n",
       "      <th>Decision Tree</th>\n",
       "      <td>0.668079</td>\n",
       "      <td>0.626936</td>\n",
       "      <td>0.815707</td>\n",
       "    </tr>\n",
       "    <tr>\n",
       "      <th>CatBoost</th>\n",
       "      <td>0.442050</td>\n",
       "      <td>0.513623</td>\n",
       "      <td>0.661144</td>\n",
       "    </tr>\n",
       "    <tr>\n",
       "      <th>Neural Network</th>\n",
       "      <td>0.467357</td>\n",
       "      <td>0.528035</td>\n",
       "      <td>0.679540</td>\n",
       "    </tr>\n",
       "    <tr>\n",
       "      <th>Bert+NN</th>\n",
       "      <td>0.495070</td>\n",
       "      <td>0.544396</td>\n",
       "      <td>0.700267</td>\n",
       "    </tr>\n",
       "    <tr>\n",
       "      <th>Bert+DNN</th>\n",
       "      <td>0.496257</td>\n",
       "      <td>0.544362</td>\n",
       "      <td>0.701144</td>\n",
       "    </tr>\n",
       "    <tr>\n",
       "      <th>Bert+ResNet</th>\n",
       "      <td>0.569136</td>\n",
       "      <td>0.585000</td>\n",
       "      <td>0.751848</td>\n",
       "    </tr>\n",
       "  </tbody>\n",
       "</table>\n",
       "</div>"
      ],
      "text/plain": [
       "                        MSE       MAE      RMSE\n",
       "Linear Regression  0.512977  0.557640  0.712983\n",
       "Decision Tree      0.668079  0.626936  0.815707\n",
       "CatBoost           0.442050  0.513623  0.661144\n",
       "Neural Network     0.467357  0.528035  0.679540\n",
       "Bert+NN            0.495070  0.544396  0.700267\n",
       "Bert+DNN           0.496257  0.544362  0.701144\n",
       "Bert+ResNet        0.569136  0.585000  0.751848"
      ]
     },
     "execution_count": 5,
     "metadata": {},
     "output_type": "execute_result"
    }
   ],
   "source": [
    "model_names = [\"Linear Regression\", \"Decision Tree\", \"CatBoost\", \"Neural Network\", \"Bert+NN\", \"Bert+DNN\", \"Bert+ResNet\"]\n",
    "rg_errors = pd.DataFrame(rg_errors.mean(axis=1), columns=[\"MSE\", \"MAE\", \"RMSE\"], index=model_names)\n",
    "cl_errors = pd.DataFrame(cl_errors.mean(axis=1), columns=[\"AUC\", \"F1\", \"Precision\", \"Recall\"], index=model_names)\n",
    "rg_errors"
   ]
  },
  {
   "cell_type": "code",
   "execution_count": 6,
   "metadata": {},
   "outputs": [
    {
     "data": {
      "text/html": [
       "<div>\n",
       "<style scoped>\n",
       "    .dataframe tbody tr th:only-of-type {\n",
       "        vertical-align: middle;\n",
       "    }\n",
       "\n",
       "    .dataframe tbody tr th {\n",
       "        vertical-align: top;\n",
       "    }\n",
       "\n",
       "    .dataframe thead th {\n",
       "        text-align: right;\n",
       "    }\n",
       "</style>\n",
       "<table border=\"1\" class=\"dataframe\">\n",
       "  <thead>\n",
       "    <tr style=\"text-align: right;\">\n",
       "      <th></th>\n",
       "      <th>AUC</th>\n",
       "      <th>F1</th>\n",
       "      <th>Precision</th>\n",
       "      <th>Recall</th>\n",
       "    </tr>\n",
       "  </thead>\n",
       "  <tbody>\n",
       "    <tr>\n",
       "      <th>Linear Regression</th>\n",
       "      <td>0.648518</td>\n",
       "      <td>0.408949</td>\n",
       "      <td>0.637565</td>\n",
       "      <td>0.307108</td>\n",
       "    </tr>\n",
       "    <tr>\n",
       "      <th>Decision Tree</th>\n",
       "      <td>0.604278</td>\n",
       "      <td>0.289247</td>\n",
       "      <td>0.442474</td>\n",
       "      <td>0.224564</td>\n",
       "    </tr>\n",
       "    <tr>\n",
       "      <th>CatBoost</th>\n",
       "      <td>0.643197</td>\n",
       "      <td>0.394149</td>\n",
       "      <td>0.669256</td>\n",
       "      <td>0.294923</td>\n",
       "    </tr>\n",
       "    <tr>\n",
       "      <th>Neural Network</th>\n",
       "      <td>0.643944</td>\n",
       "      <td>0.395146</td>\n",
       "      <td>0.663755</td>\n",
       "      <td>0.297064</td>\n",
       "    </tr>\n",
       "    <tr>\n",
       "      <th>Bert+NN</th>\n",
       "      <td>0.609929</td>\n",
       "      <td>0.310597</td>\n",
       "      <td>0.596426</td>\n",
       "      <td>0.227161</td>\n",
       "    </tr>\n",
       "    <tr>\n",
       "      <th>Bert+DNN</th>\n",
       "      <td>0.654857</td>\n",
       "      <td>0.387605</td>\n",
       "      <td>0.553524</td>\n",
       "      <td>0.324327</td>\n",
       "    </tr>\n",
       "    <tr>\n",
       "      <th>Bert+ResNet</th>\n",
       "      <td>0.699796</td>\n",
       "      <td>0.431274</td>\n",
       "      <td>0.458345</td>\n",
       "      <td>0.429237</td>\n",
       "    </tr>\n",
       "  </tbody>\n",
       "</table>\n",
       "</div>"
      ],
      "text/plain": [
       "                        AUC        F1  Precision    Recall\n",
       "Linear Regression  0.648518  0.408949   0.637565  0.307108\n",
       "Decision Tree      0.604278  0.289247   0.442474  0.224564\n",
       "CatBoost           0.643197  0.394149   0.669256  0.294923\n",
       "Neural Network     0.643944  0.395146   0.663755  0.297064\n",
       "Bert+NN            0.609929  0.310597   0.596426  0.227161\n",
       "Bert+DNN           0.654857  0.387605   0.553524  0.324327\n",
       "Bert+ResNet        0.699796  0.431274   0.458345  0.429237"
      ]
     },
     "execution_count": 6,
     "metadata": {},
     "output_type": "execute_result"
    }
   ],
   "source": [
    "cl_errors"
   ]
  },
  {
   "cell_type": "code",
   "execution_count": null,
   "metadata": {},
   "outputs": [
    {
     "data": {
      "text/plain": [
       "array([0.5973295 , 0.59942266, 0.77042552])"
      ]
     },
     "execution_count": 14,
     "metadata": {},
     "output_type": "execute_result"
    }
   ],
   "source": [
    "bionn_lstmf_rg_error = np.load(\"./Result/BioRes_LSTMF_rg_error.npy\").mean(axis=0)\n",
    "bionn_lstmf_cl_error = np.load(\"./Result/BioRes_LSTMF_cl_error.npy\").mean(axis=0)\n",
    "bionn_lstmf_rg_error.mean(axis=0)"
   ]
  },
  {
   "cell_type": "code",
   "execution_count": null,
   "metadata": {},
   "outputs": [
    {
     "ename": "NameError",
     "evalue": "name 'all_mmp' is not defined",
     "output_type": "error",
     "traceback": [
      "\u001b[1;31m---------------------------------------------------------------------------\u001b[0m",
      "\u001b[1;31mNameError\u001b[0m                                 Traceback (most recent call last)",
      "Cell \u001b[1;32mIn[15], line 1\u001b[0m\n\u001b[1;32m----> 1\u001b[0m \u001b[43mall_mmp\u001b[49m\n",
      "\u001b[1;31mNameError\u001b[0m: name 'all_mmp' is not defined"
     ]
    }
   ],
   "source": [
    "all_mmp"
   ]
  }
 ],
 "metadata": {
  "kernelspec": {
   "display_name": "dsl_project",
   "language": "python",
   "name": "python3"
  },
  "language_info": {
   "codemirror_mode": {
    "name": "ipython",
    "version": 3
   },
   "file_extension": ".py",
   "mimetype": "text/x-python",
   "name": "python",
   "nbconvert_exporter": "python",
   "pygments_lexer": "ipython3",
   "version": "3.10.14"
  }
 },
 "nbformat": 4,
 "nbformat_minor": 2
}
