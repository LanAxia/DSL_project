{
 "cells": [
  {
   "cell_type": "markdown",
   "metadata": {},
   "source": [
    "# Result Analysis"
   ]
  },
  {
   "cell_type": "markdown",
   "metadata": {},
   "source": [
    "## Import Libraries"
   ]
  },
  {
   "cell_type": "code",
   "execution_count": 1,
   "metadata": {},
   "outputs": [],
   "source": [
    "# import libraries\n",
    "import numpy as np\n",
    "import pandas as pd\n",
    "from tqdm import tqdm\n",
    "from collections import Counter\n",
    "\n",
    "import sklearn\n",
    "from sklearn.model_selection import train_test_split, KFold\n",
    "from sklearn.linear_model import Ridge\n",
    "from sklearn.metrics import f1_score, precision_score, recall_score, roc_auc_score, mean_squared_error, mean_absolute_error\n",
    "\n",
    "import torch\n",
    "import torch.nn as nn\n",
    "from torch.utils.data import Dataset, DataLoader\n",
    "import torch.nn.functional as F\n",
    "import torch.optim as optim\n",
    "\n",
    "from transformers import BertTokenizerFast, BertModel\n",
    "\n",
    "\n",
    "# 导入其他文件\n",
    "from extract_features import load_features\n",
    "from models import BioNN, BioDeepNN, BioResNet\n",
    "\n",
    "# constant\n",
    "SAVE = True\n",
    "device = torch.device(\"cuda\") if torch.cuda.is_available() else torch.device(\"cpu\")"
   ]
  },
  {
   "cell_type": "markdown",
   "metadata": {},
   "source": [
    "## Model Conparation"
   ]
  },
  {
   "cell_type": "code",
   "execution_count": 2,
   "metadata": {},
   "outputs": [],
   "source": [
    "# 处理数据\n",
    "# import data and preprocess\n",
    "data = pd.read_csv(\"./Data/processed_peptides10.csv\")  # load data\n",
    "\n",
    "# 得到氨基酸序列\n",
    "peptides = data.iloc[:, 0].values.tolist()  # 肽链的列表（字符串）\n",
    "\n",
    "# load extracted features\n",
    "features_x = load_features().iloc[:, 1:].values\n",
    "\n",
    "# 处理mmp y的数据\n",
    "all_mmp_y = data.iloc[:, 1:].values"
   ]
  },
  {
   "cell_type": "code",
   "execution_count": 3,
   "metadata": {},
   "outputs": [],
   "source": [
    "# 定义验证模型效果的函数\n",
    "def validate(model: object, x: np.array, y: np.array):\n",
    "    # 用5折交叉验证来验证模型效果\n",
    "    kf = KFold(n_splits=5, random_state=33, shuffle=True)\n",
    "    rg_errors = np.zeros((5, y.shape[1], 3))\n",
    "    cl_errors = np.zeros((5, y.shape[1], 4))  # 评价指标包括auc, f1, precision, recall\n",
    "    for i, (train_id, test_id) in tqdm(enumerate(kf.split(features_x)), desc=\"Testing on all MMPs\", total=5):\n",
    "        for mmp_i in range(y.shape[1]):\n",
    "            train_x, train_y = x[train_id], y[:, mmp_i][train_id]\n",
    "            test_x, test_y = x[test_id], y[:, mmp_i][test_id]\n",
    "\n",
    "            model.fit(train_x, train_y)\n",
    "            pred = model.predict(test_x)\n",
    "            # 记录regression error\n",
    "            mse = mean_squared_error(test_y, pred)\n",
    "            mae = mean_absolute_error(test_y, pred)\n",
    "            rmse = np.sqrt(mse)\n",
    "            rg_errors[i, mmp_i, 0] = mse\n",
    "            rg_errors[i, mmp_i, 1] = mae\n",
    "            rg_errors[i, mmp_i, 2] = rmse\n",
    "            \n",
    "            # 记录classification error\n",
    "            cl_pred = pred > 1.65\n",
    "            cl_test_y = test_y > 1.65\n",
    "            auc = roc_auc_score(cl_test_y, cl_pred)\n",
    "            f1 = f1_score(cl_test_y, cl_pred)\n",
    "            precision = precision_score(cl_test_y, cl_pred)\n",
    "            recall = recall_score(cl_test_y, cl_pred)\n",
    "            cl_errors[i, mmp_i, 0] = auc\n",
    "            cl_errors[i, mmp_i, 1] = f1\n",
    "            cl_errors[i, mmp_i, 2] = precision\n",
    "            cl_errors[i, mmp_i, 3] = recall\n",
    "    return rg_errors, cl_errors"
   ]
  },
  {
   "cell_type": "code",
   "execution_count": 4,
   "metadata": {},
   "outputs": [
    {
     "name": "stderr",
     "output_type": "stream",
     "text": [
      "Testing on all MMPs: 100%|██████████| 5/5 [02:42<00:00, 32.42s/it]\n"
     ]
    }
   ],
   "source": [
    "# linear regression\n",
    "lr_model = Ridge(alpha=1.0)\n",
    "lr_rg_error, lr_cl_error = validate(lr_model, features_x, all_mmp_y)"
   ]
  },
  {
   "cell_type": "code",
   "execution_count": 5,
   "metadata": {},
   "outputs": [
    {
     "ename": "SyntaxError",
     "evalue": "invalid syntax (1606605017.py, line 2)",
     "output_type": "error",
     "traceback": [
      "\u001b[0;36m  Cell \u001b[0;32mIn[5], line 2\u001b[0;36m\u001b[0m\n\u001b[0;31m    svt_model =\u001b[0m\n\u001b[0m                ^\u001b[0m\n\u001b[0;31mSyntaxError\u001b[0m\u001b[0;31m:\u001b[0m invalid syntax\n"
     ]
    }
   ],
   "source": [
    "# svr\n",
    "svt_model = "
   ]
  }
 ],
 "metadata": {
  "kernelspec": {
   "display_name": "dsl_project",
   "language": "python",
   "name": "python3"
  },
  "language_info": {
   "codemirror_mode": {
    "name": "ipython",
    "version": 3
   },
   "file_extension": ".py",
   "mimetype": "text/x-python",
   "name": "python",
   "nbconvert_exporter": "python",
   "pygments_lexer": "ipython3",
   "version": "3.10.14"
  }
 },
 "nbformat": 4,
 "nbformat_minor": 2
}
