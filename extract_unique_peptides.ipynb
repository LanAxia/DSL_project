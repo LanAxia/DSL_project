{
 "cells": [
  {
   "cell_type": "markdown",
   "id": "51942593a4c55c4c",
   "metadata": {
    "collapsed": false
   },
   "source": [
    "# Extract Unique Peptides"
   ]
  },
  {
   "cell_type": "markdown",
   "id": "2695e16865c1a0b2",
   "metadata": {
    "collapsed": false
   },
   "source": [
    "## Import Libraries"
   ]
  },
  {
   "cell_type": "code",
   "execution_count": 1,
   "id": "initial_id",
   "metadata": {
    "collapsed": true,
    "notebookRunGroups": {
     "groupValue": "1"
    },
    "ExecuteTime": {
     "end_time": "2024-06-01T12:31:17.401003300Z",
     "start_time": "2024-06-01T12:31:15.531550900Z"
    }
   },
   "outputs": [],
   "source": [
    "# import libraries\n",
    "import numpy as np\n",
    "import pandas as pd\n",
    "\n",
    "import torch\n",
    "\n",
    "from transformers import BertTokenizerFast, BertModel\n",
    "\n",
    "\n",
    "# import other files\n",
    "from extract_features import load_features, load_pred_features\n",
    "from model_training import PeptidesDataLoader\n",
    "from models import BioNN\n",
    "\n",
    "# constant\n",
    "device = torch.device(\"cuda\") if torch.cuda.is_available() else torch.device(\"cpu\")"
   ]
  },
  {
   "cell_type": "markdown",
   "id": "3274979f049fda5c",
   "metadata": {
    "collapsed": false
   },
   "source": [
    "## Load Model"
   ]
  },
  {
   "cell_type": "code",
   "execution_count": 2,
   "id": "31365edba01c8147",
   "metadata": {
    "collapsed": false,
    "ExecuteTime": {
     "end_time": "2024-06-01T12:31:19.349252300Z",
     "start_time": "2024-06-01T12:31:17.401003300Z"
    }
   },
   "outputs": [
    {
     "name": "stderr",
     "output_type": "stream",
     "text": [
      "Some weights of BertModel were not initialized from the model checkpoint at unikei/bert-base-proteins and are newly initialized: ['bert.pooler.dense.bias', 'bert.pooler.dense.weight']\n",
      "You should probably TRAIN this model on a down-stream task to be able to use it for predictions and inference.\n"
     ]
    },
    {
     "data": {
      "text/plain": "BioNN(\n  (nn1): Linear(in_features=10350, out_features=512, bias=True)\n  (dropout1): Dropout(p=0.5, inplace=False)\n  (nn2): Linear(in_features=512, out_features=256, bias=True)\n  (dropout2): Dropout(p=0.5, inplace=False)\n  (nn3): Linear(in_features=256, out_features=18, bias=True)\n)"
     },
     "execution_count": 2,
     "metadata": {},
     "output_type": "execute_result"
    }
   ],
   "source": [
    "# load data\n",
    "features_x = load_features().iloc[:, 1:].values\n",
    "\n",
    "# load BERT model and FC (2 layers)\n",
    "checkpoint = 'unikei/bert-base-proteins'\n",
    "tokenizer = BertTokenizerFast.from_pretrained(checkpoint)\n",
    "\n",
    "bert_model = BertModel.from_pretrained(checkpoint).to(device)\n",
    "bert_model.load_state_dict(torch.load('./Model/bert_model.pth', map_location=device))\n",
    "bert_model.eval()\n",
    "\n",
    "bio_model = BioNN(768 * 10 + features_x.shape[1], labels_num=18).to(device)\n",
    "bio_model.load_state_dict(torch.load('./Model/bio_model.pth', map_location=device))\n",
    "bio_model.eval()"
   ]
  },
  {
   "cell_type": "markdown",
   "id": "bb92ab8075130a50",
   "metadata": {
    "collapsed": false
   },
   "source": [
    "## Load Data"
   ]
  },
  {
   "cell_type": "code",
   "execution_count": 3,
   "id": "3d6e748776122243",
   "metadata": {
    "collapsed": false,
    "ExecuteTime": {
     "end_time": "2024-06-01T12:31:19.535307500Z",
     "start_time": "2024-06-01T12:31:19.349252300Z"
    }
   },
   "outputs": [
    {
     "name": "stderr",
     "output_type": "stream",
     "text": [
      "Extracting binary features: 1944it [00:00, 388902.36it/s]\n",
      "Extracting cksaap features: 1944it [00:00, 49848.24it/s]\n",
      "Extracting binary features: 134it [00:00, ?it/s]\n",
      "Extracting cksaap features: 134it [00:00, 22333.18it/s]\n"
     ]
    }
   ],
   "source": [
    "# load mmp3 unique peptide sequences\n",
    "mmp3_original_unique_peptides = pd.read_csv(\"./Data/MMP3_unique_sequence.csv\", header=None)\n",
    "\n",
    "# load features of mmp3 unique peptides\n",
    "mmp3_features_x = load_pred_features(3).iloc[:, 1:].values  # drop peptide column\n",
    "mmp3_features_x = torch.from_numpy(mmp3_features_x).float()\n",
    "\n",
    "mmp3_original_unique_peptides = mmp3_original_unique_peptides.iloc[:, 0].values.tolist()\n",
    "mmp3_dataloader = PeptidesDataLoader(mmp3_original_unique_peptides, mmp3_features_x, np.zeros_like(mmp3_features_x), batch_size=512, shuffle=False)  # the labels here are not used, so use zeros\n",
    "\n",
    "# load mmp9 unique peptide sequences\n",
    "mmp9_original_unique_peptides = pd.read_csv(\"./Data/MMP9_unique_sequence.csv\", header=None)\n",
    "\n",
    "# load features of mmp9 unique peptides\n",
    "mmp9_features_x = load_pred_features(9).iloc[:, 1:].values  # drop peptide column\n",
    "mmp9_features_x = torch.from_numpy(mmp9_features_x).float()\n",
    "\n",
    "mmp9_original_unique_peptides = mmp9_original_unique_peptides.iloc[:, 0].values.tolist()\n",
    "mmp9_dataloader = PeptidesDataLoader(mmp9_original_unique_peptides, mmp9_features_x, np.zeros_like(mmp9_features_x), batch_size=512, shuffle=False)  # the labels here are not used, so use zeros"
   ]
  },
  {
   "cell_type": "code",
   "execution_count": 4,
   "id": "218f169e9fc6cfd8",
   "metadata": {
    "collapsed": false,
    "ExecuteTime": {
     "end_time": "2024-06-01T12:31:20.341586500Z",
     "start_time": "2024-06-01T12:31:19.538307900Z"
    }
   },
   "outputs": [],
   "source": [
    "# predict mmp3 unique peptides' mmp cleavage efficiency scores\n",
    "pred_mmp3 = []\n",
    "with torch.no_grad():\n",
    "    for peptides_epoch, features_epoch, _ in mmp3_dataloader:\n",
    "        tokens_epoch = tokenizer(peptides_epoch, return_tensors='pt').to(device)\n",
    "        bert_output = bert_model(**tokens_epoch).last_hidden_state.view(len(peptides_epoch), -1)  # flatten embedding\n",
    "        bio_input = torch.cat([bert_output, features_epoch.to(device)], dim=1)\n",
    "\n",
    "        bio_output = bio_model(bio_input)\n",
    "        pred_mmp3.append(bio_output.to(\"cpu\"))\n",
    "pred_mmp3 = torch.cat(pred_mmp3, dim=0).detach().numpy()\n",
    "\n",
    "# predict mmp9 unique peptides' mmp cleavage efficiency scores\n",
    "pred_mmp9 = []\n",
    "with torch.no_grad():\n",
    "    for peptides_epoch, features_epoch, _ in mmp9_dataloader:\n",
    "        tokens_epoch = tokenizer(peptides_epoch, return_tensors='pt').to(device)\n",
    "        bert_output = bert_model(**tokens_epoch).last_hidden_state.view(len(peptides_epoch), -1)  # flatten embedding\n",
    "        bio_input = torch.cat([bert_output, features_epoch.to(device)], dim=1)\n",
    "\n",
    "        bio_output = bio_model(bio_input)\n",
    "        pred_mmp9.append(bio_output.to(\"cpu\"))\n",
    "pred_mmp9 = torch.cat(pred_mmp9, dim=0).detach().numpy()\n",
    "\n",
    "# save the prediction result\n",
    "np.save(\"./Result/pred_mmp3.npy\", pred_mmp3)\n",
    "np.save(\"./Result/pred_mmp9.npy\", pred_mmp9)"
   ]
  },
  {
   "cell_type": "code",
   "execution_count": 5,
   "id": "a02d4d74",
   "metadata": {
    "ExecuteTime": {
     "end_time": "2024-06-01T12:31:20.357586700Z",
     "start_time": "2024-06-01T12:31:20.343588400Z"
    }
   },
   "outputs": [
    {
     "data": {
      "text/plain": "557"
     },
     "execution_count": 5,
     "metadata": {},
     "output_type": "execute_result"
    }
   ],
   "source": [
    "# unique peptide sequences for mmp 3\n",
    "pred_other_than_mmp3 = np.concatenate([pred_mmp3[:, :2], pred_mmp3[:, 3:]], axis=1)  # delete the score for mmp 3, because we care about scores of other mmp cleavage\n",
    "sum((pred_other_than_mmp3 < 0).mean(axis=1) == 1)  # number of unique peptides for mmp3 (cannot be cleaved by other mmps)"
   ]
  },
  {
   "cell_type": "code",
   "execution_count": 6,
   "id": "369ced74",
   "metadata": {
    "ExecuteTime": {
     "end_time": "2024-06-01T12:31:20.403585500Z",
     "start_time": "2024-06-01T12:31:20.359586500Z"
    }
   },
   "outputs": [
    {
     "data": {
      "text/plain": "58"
     },
     "execution_count": 6,
     "metadata": {},
     "output_type": "execute_result"
    }
   ],
   "source": [
    "# unique peptide sequences for mmp 9\n",
    "pred_other_than_mmp9 = np.concatenate([pred_mmp9[:, :5], pred_mmp9[:, 6:]], axis=1)  # delete the score for mmp 9, because we care about scores of other mmp cleavage\n",
    "sum((pred_other_than_mmp9 < 0).mean(axis=1) == 1)  # number of unique peptides for mmp9 (cannot be cleaved by other mmps)"
   ]
  }
 ],
 "metadata": {
  "kernelspec": {
   "display_name": "Python 3",
   "language": "python",
   "name": "python3"
  },
  "language_info": {
   "codemirror_mode": {
    "name": "ipython",
    "version": 3
   },
   "file_extension": ".py",
   "mimetype": "text/x-python",
   "name": "python",
   "nbconvert_exporter": "python",
   "pygments_lexer": "ipython3",
   "version": "3.10.14"
  }
 },
 "nbformat": 4,
 "nbformat_minor": 5
}
