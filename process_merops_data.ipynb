{
 "cells": [
  {
   "cell_type": "markdown",
   "metadata": {},
   "source": [
    "# Process Merops Data"
   ]
  },
  {
   "cell_type": "markdown",
   "metadata": {},
   "source": [
    "## Import Libraries"
   ]
  },
  {
   "cell_type": "code",
   "execution_count": 1,
   "metadata": {
    "notebookRunGroups": {
     "groupValue": "1"
    },
    "ExecuteTime": {
     "end_time": "2024-06-01T10:09:52.092162500Z",
     "start_time": "2024-06-01T10:09:52.063033800Z"
    }
   },
   "outputs": [],
   "source": [
    "# import libraries\n",
    "import numpy as np\n",
    "import pandas as pd\n",
    "import blosum as bl\n",
    "\n",
    "# constant\n",
    "SAVE = True"
   ]
  },
  {
   "cell_type": "markdown",
   "metadata": {},
   "source": [
    "## Process Data"
   ]
  },
  {
   "cell_type": "code",
   "execution_count": 2,
   "metadata": {
    "ExecuteTime": {
     "end_time": "2024-06-01T10:09:52.777318700Z",
     "start_time": "2024-06-01T10:09:52.094162700Z"
    }
   },
   "outputs": [
    {
     "name": "stderr",
     "output_type": "stream",
     "text": [
      "C:\\Users\\Hongyi LAN\\AppData\\Local\\Temp\\ipykernel_32856\\1807905493.py:2: DtypeWarning: Columns (18) have mixed types. Specify dtype option on import or set low_memory=False.\n",
      "  data = pd.read_csv(\"./Data/Substrate_search.txt\", sep='\\t', header=None, encoding='utf-8')\n"
     ]
    },
    {
     "data": {
      "text/plain": "           0        1                      2                           3   \\\n0  CLE0166975  A01.001         ac-Phe-Tyr(I2)              ac-Phe+Tyr(I2)   \n1  CLE0166506  A01.001  alcohol dehydrogenase  peptide-Ala107+Val-peptide   \n2  CLE0166510  A01.001  alcohol dehydrogenase  peptide-Ala119+Ile-peptide   \n3  CLE0166517  A01.001  alcohol dehydrogenase  peptide-Ala178+Tyr-peptide   \n4  CLE0166523  A01.001  alcohol dehydrogenase  peptide-Ala218+Cys-peptide   \n\n    4    5    6    7    8    9   ...   14                       15        16  \\\n0    -    -   Ac  Phe  TyI    -  ...  NaN                      NaN  pepsin A   \n1  Arg  Thr  Ile  Ala  Val  Asn  ...  107  Drosophila melanogaster  pepsin A   \n2  Thr  Thr  Thr  Ala  Ile  Leu  ...  119  Drosophila melanogaster  pepsin A   \n3  Gly  Val  Thr  Ala  Tyr  Thr  ...  178  Drosophila melanogaster  pepsin A   \n4  Pro  Ser  Leu  Ala  Cys  Ala  ...  218  Drosophila melanogaster  pepsin A   \n\n    17   18     19   20   21                 22  23  \n0  NaN  NaN    NaN  NaN  NaN          synthetic NaN  \n1  NaN  NaN  1-256   NT   VT  non-physiological NaN  \n2  NaN  NaN  1-256   NT   VT  non-physiological NaN  \n3  NaN  NaN  1-256   NT   VT  non-physiological NaN  \n4  NaN  NaN  1-256   NT   VT  non-physiological NaN  \n\n[5 rows x 24 columns]",
      "text/html": "<div>\n<style scoped>\n    .dataframe tbody tr th:only-of-type {\n        vertical-align: middle;\n    }\n\n    .dataframe tbody tr th {\n        vertical-align: top;\n    }\n\n    .dataframe thead th {\n        text-align: right;\n    }\n</style>\n<table border=\"1\" class=\"dataframe\">\n  <thead>\n    <tr style=\"text-align: right;\">\n      <th></th>\n      <th>0</th>\n      <th>1</th>\n      <th>2</th>\n      <th>3</th>\n      <th>4</th>\n      <th>5</th>\n      <th>6</th>\n      <th>7</th>\n      <th>8</th>\n      <th>9</th>\n      <th>...</th>\n      <th>14</th>\n      <th>15</th>\n      <th>16</th>\n      <th>17</th>\n      <th>18</th>\n      <th>19</th>\n      <th>20</th>\n      <th>21</th>\n      <th>22</th>\n      <th>23</th>\n    </tr>\n  </thead>\n  <tbody>\n    <tr>\n      <th>0</th>\n      <td>CLE0166975</td>\n      <td>A01.001</td>\n      <td>ac-Phe-Tyr(I2)</td>\n      <td>ac-Phe+Tyr(I2)</td>\n      <td>-</td>\n      <td>-</td>\n      <td>Ac</td>\n      <td>Phe</td>\n      <td>TyI</td>\n      <td>-</td>\n      <td>...</td>\n      <td>NaN</td>\n      <td>NaN</td>\n      <td>pepsin A</td>\n      <td>NaN</td>\n      <td>NaN</td>\n      <td>NaN</td>\n      <td>NaN</td>\n      <td>NaN</td>\n      <td>synthetic</td>\n      <td>NaN</td>\n    </tr>\n    <tr>\n      <th>1</th>\n      <td>CLE0166506</td>\n      <td>A01.001</td>\n      <td>alcohol dehydrogenase</td>\n      <td>peptide-Ala107+Val-peptide</td>\n      <td>Arg</td>\n      <td>Thr</td>\n      <td>Ile</td>\n      <td>Ala</td>\n      <td>Val</td>\n      <td>Asn</td>\n      <td>...</td>\n      <td>107</td>\n      <td>Drosophila melanogaster</td>\n      <td>pepsin A</td>\n      <td>NaN</td>\n      <td>NaN</td>\n      <td>1-256</td>\n      <td>NT</td>\n      <td>VT</td>\n      <td>non-physiological</td>\n      <td>NaN</td>\n    </tr>\n    <tr>\n      <th>2</th>\n      <td>CLE0166510</td>\n      <td>A01.001</td>\n      <td>alcohol dehydrogenase</td>\n      <td>peptide-Ala119+Ile-peptide</td>\n      <td>Thr</td>\n      <td>Thr</td>\n      <td>Thr</td>\n      <td>Ala</td>\n      <td>Ile</td>\n      <td>Leu</td>\n      <td>...</td>\n      <td>119</td>\n      <td>Drosophila melanogaster</td>\n      <td>pepsin A</td>\n      <td>NaN</td>\n      <td>NaN</td>\n      <td>1-256</td>\n      <td>NT</td>\n      <td>VT</td>\n      <td>non-physiological</td>\n      <td>NaN</td>\n    </tr>\n    <tr>\n      <th>3</th>\n      <td>CLE0166517</td>\n      <td>A01.001</td>\n      <td>alcohol dehydrogenase</td>\n      <td>peptide-Ala178+Tyr-peptide</td>\n      <td>Gly</td>\n      <td>Val</td>\n      <td>Thr</td>\n      <td>Ala</td>\n      <td>Tyr</td>\n      <td>Thr</td>\n      <td>...</td>\n      <td>178</td>\n      <td>Drosophila melanogaster</td>\n      <td>pepsin A</td>\n      <td>NaN</td>\n      <td>NaN</td>\n      <td>1-256</td>\n      <td>NT</td>\n      <td>VT</td>\n      <td>non-physiological</td>\n      <td>NaN</td>\n    </tr>\n    <tr>\n      <th>4</th>\n      <td>CLE0166523</td>\n      <td>A01.001</td>\n      <td>alcohol dehydrogenase</td>\n      <td>peptide-Ala218+Cys-peptide</td>\n      <td>Pro</td>\n      <td>Ser</td>\n      <td>Leu</td>\n      <td>Ala</td>\n      <td>Cys</td>\n      <td>Ala</td>\n      <td>...</td>\n      <td>218</td>\n      <td>Drosophila melanogaster</td>\n      <td>pepsin A</td>\n      <td>NaN</td>\n      <td>NaN</td>\n      <td>1-256</td>\n      <td>NT</td>\n      <td>VT</td>\n      <td>non-physiological</td>\n      <td>NaN</td>\n    </tr>\n  </tbody>\n</table>\n<p>5 rows × 24 columns</p>\n</div>"
     },
     "execution_count": 2,
     "metadata": {},
     "output_type": "execute_result"
    }
   ],
   "source": [
    "# delete the quotes in the data\n",
    "data = pd.read_csv(\"./Data/Substrate_search.txt\", sep='\\t', header=None, encoding='utf-8')\n",
    "data = data.map(lambda x: str(x).strip(\"'\") if isinstance(x, str) else x)\n",
    "\n",
    "if SAVE is True:\n",
    "    data.to_csv(\"./Data/Substrate_search_processed.csv\", sep='\\t', index=False, header=False, encoding=\"utf-8\")\n",
    "data.head(5)"
   ]
  },
  {
   "cell_type": "code",
   "execution_count": 3,
   "metadata": {
    "ExecuteTime": {
     "end_time": "2024-06-01T10:09:52.792333600Z",
     "start_time": "2024-06-01T10:09:52.779198600Z"
    }
   },
   "outputs": [],
   "source": [
    "# build amino acid map\n",
    "amino_table = pd.read_csv(\"./Data/amino_table.csv\", sep=\"\\t\", header=None)\n",
    "amino_table.columns = [\"chinese\", \"english\", \"one_abbr\", \"three_abbr\"]\n",
    "amino_three2one, amino_one2three = dict(), dict()\n",
    "for row_i, row in amino_table.iterrows():\n",
    "    three_abbr = row[\"three_abbr\"].lower()\n",
    "    one_abbr = row[\"one_abbr\"].lower()\n",
    "    amino_three2one[three_abbr] = one_abbr\n",
    "    amino_one2three[one_abbr] = three_abbr"
   ]
  },
  {
   "cell_type": "code",
   "execution_count": 4,
   "metadata": {
    "notebookRunGroups": {
     "groupValue": "1"
    },
    "ExecuteTime": {
     "end_time": "2024-06-01T10:09:57.438485200Z",
     "start_time": "2024-06-01T10:09:52.796334200Z"
    }
   },
   "outputs": [
    {
     "name": "stderr",
     "output_type": "stream",
     "text": [
      "C:\\Users\\Hongyi LAN\\AppData\\Local\\Temp\\ipykernel_32856\\1604510050.py:2: DtypeWarning: Columns (18) have mixed types. Specify dtype option on import or set low_memory=False.\n",
      "  data = pd.read_csv(\"./Data/Substrate_search_processed.csv\", sep='\\t', header=None, encoding='utf-8')\n"
     ]
    },
    {
     "data": {
      "text/plain": "     protease    0    1    2    3    4    5    6    7\n998   A01.003  phe  gly  asp  leu  ser  val  thr  tyr\n999   A01.003  leu  gly  glu  phe  leu  arg  thr  his\n1000  A01.003  phe  thr  ser  asp  tyr  ser  lys  tyr\n1001  A01.003  val  gln  trp  leu  met  asn  thr    -\n1002  A01.003  gln  gly  thr  phe  thr  ser  asp  tyr",
      "text/html": "<div>\n<style scoped>\n    .dataframe tbody tr th:only-of-type {\n        vertical-align: middle;\n    }\n\n    .dataframe tbody tr th {\n        vertical-align: top;\n    }\n\n    .dataframe thead th {\n        text-align: right;\n    }\n</style>\n<table border=\"1\" class=\"dataframe\">\n  <thead>\n    <tr style=\"text-align: right;\">\n      <th></th>\n      <th>protease</th>\n      <th>0</th>\n      <th>1</th>\n      <th>2</th>\n      <th>3</th>\n      <th>4</th>\n      <th>5</th>\n      <th>6</th>\n      <th>7</th>\n    </tr>\n  </thead>\n  <tbody>\n    <tr>\n      <th>998</th>\n      <td>A01.003</td>\n      <td>phe</td>\n      <td>gly</td>\n      <td>asp</td>\n      <td>leu</td>\n      <td>ser</td>\n      <td>val</td>\n      <td>thr</td>\n      <td>tyr</td>\n    </tr>\n    <tr>\n      <th>999</th>\n      <td>A01.003</td>\n      <td>leu</td>\n      <td>gly</td>\n      <td>glu</td>\n      <td>phe</td>\n      <td>leu</td>\n      <td>arg</td>\n      <td>thr</td>\n      <td>his</td>\n    </tr>\n    <tr>\n      <th>1000</th>\n      <td>A01.003</td>\n      <td>phe</td>\n      <td>thr</td>\n      <td>ser</td>\n      <td>asp</td>\n      <td>tyr</td>\n      <td>ser</td>\n      <td>lys</td>\n      <td>tyr</td>\n    </tr>\n    <tr>\n      <th>1001</th>\n      <td>A01.003</td>\n      <td>val</td>\n      <td>gln</td>\n      <td>trp</td>\n      <td>leu</td>\n      <td>met</td>\n      <td>asn</td>\n      <td>thr</td>\n      <td>-</td>\n    </tr>\n    <tr>\n      <th>1002</th>\n      <td>A01.003</td>\n      <td>gln</td>\n      <td>gly</td>\n      <td>thr</td>\n      <td>phe</td>\n      <td>thr</td>\n      <td>ser</td>\n      <td>asp</td>\n      <td>tyr</td>\n    </tr>\n  </tbody>\n</table>\n</div>"
     },
     "execution_count": 4,
     "metadata": {},
     "output_type": "execute_result"
    }
   ],
   "source": [
    "# only keep the protease and peptide information\n",
    "data = pd.read_csv(\"./Data/Substrate_search_processed.csv\", sep='\\t', header=None, encoding='utf-8')\n",
    "\n",
    "protease_peptide = pd.concat((data[[1]], data.iloc[:, 4:12]), axis=1)  # keep protease and peptide info\n",
    "protease_peptide = protease_peptide.dropna()  # drop nan values\n",
    "nan_row_ids = set()  # some nan are str types, so we can only drop them by checking the rows\n",
    "for row_i, row in protease_peptide.iterrows():\n",
    "    if \"NAN\" in row.tolist():\n",
    "        nan_row_ids |= {row_i}\n",
    "protease_peptide = protease_peptide.drop(list(nan_row_ids))  # drop nan rows\n",
    "\n",
    "protease_peptide.columns = [\"protease\"] + [i for i in range(8)]  # modify column names\n",
    "protease_peptide.iloc[:, 1:] = protease_peptide.iloc[:, 1:].map(lambda x: x.lower())  # turn amino acids to lower case\n",
    "protease_peptide.iloc[:, 1:] = protease_peptide.iloc[:, 1:].map(lambda x: \"-\" if \"-\" in x else x)  # turn \"/-/\" to \"-\"\n",
    "\n",
    "# filter proteases in human body\n",
    "human_protease = pd.read_csv(\"./Data/human_protease.txt\", sep=\"\\t\")\n",
    "human_protease = set(human_protease[\"MEROPS ID\"].tolist())\n",
    "human_animos = set(bl.BLOSUM(62).keys())\n",
    "protease_peptide = protease_peptide[protease_peptide[\"protease\"].isin(human_protease)]\n",
    "\n",
    "# filter peptides\n",
    "valid_row_ids = []\n",
    "for row_i, row in protease_peptide.iterrows():\n",
    "    if len(set(row.iloc[1:].map(lambda x: x.lower()).tolist()) - (amino_three2one.keys() | {\"-\"})) == 0:\n",
    "        valid_row_ids.append(row_i)\n",
    "protease_peptide = protease_peptide.loc[valid_row_ids]\n",
    "\n",
    "if SAVE is True:\n",
    "    protease_peptide.to_csv(\"./Data/Protease_Peptides.csv\", sep='\\t', header=True, index=False)  # save the data\n",
    "protease_peptide.head(5)"
   ]
  }
 ],
 "metadata": {
  "kernelspec": {
   "display_name": "dsl",
   "language": "python",
   "name": "python3"
  },
  "language_info": {
   "codemirror_mode": {
    "name": "ipython",
    "version": 3
   },
   "file_extension": ".py",
   "mimetype": "text/x-python",
   "name": "python",
   "nbconvert_exporter": "python",
   "pygments_lexer": "ipython3",
   "version": "3.10.14"
  }
 },
 "nbformat": 4,
 "nbformat_minor": 2
}
