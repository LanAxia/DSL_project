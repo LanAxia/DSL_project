{
 "cells": [
  {
   "cell_type": "markdown",
   "metadata": {},
   "source": [
    "# Result Analysis"
   ]
  },
  {
   "cell_type": "markdown",
   "metadata": {},
   "source": [
    "## import libraries"
   ]
  },
  {
   "cell_type": "code",
   "execution_count": 7,
   "metadata": {
    "ExecuteTime": {
     "end_time": "2024-05-31T23:25:52.410682700Z",
     "start_time": "2024-05-31T23:25:52.400683200Z"
    }
   },
   "outputs": [],
   "source": [
    "# import libraries\n",
    "import numpy as np\n",
    "import pandas as pd\n",
    "from sklearn.metrics import f1_score, precision_score, recall_score, roc_auc_score, mean_squared_error, mean_absolute_error, accuracy_score\n",
    "import matplotlib.pyplot as plt\n",
    "import seaborn as sns\n",
    "\n",
    "# constant\n",
    "model_names = [\"Linear Regression\", \"Decision Tree\", \"XGBoost\", \"CatBoost\", \"Neural Network\", \"Bert+NN\", \"Bert+DNN\", \"Bert+ResNet\"]"
   ]
  },
  {
   "cell_type": "markdown",
   "metadata": {},
   "source": [
    "## Calculate Metrics for different models"
   ]
  },
  {
   "cell_type": "code",
   "execution_count": 29,
   "outputs": [],
   "source": [
    "# define the functions to calculate metrics\n",
    "def get_rg_errors(validation: np.array) -> np.array:\n",
    "    # call regression metrics for each mmp\n",
    "    pred = validation[0, :, :]\n",
    "    true = validation[1, :, :]\n",
    "    mse = np.zeros((18))\n",
    "    mae = np.zeros((18))\n",
    "    rmse = np.zeros((18))\n",
    "    for mmp_i in range(18):\n",
    "        mse[mmp_i] = mean_squared_error(true[:, mmp_i], pred[:, mmp_i])\n",
    "        mae[mmp_i] = mean_absolute_error(true[:, mmp_i], pred[:, mmp_i])\n",
    "        rmse[mmp_i] = np.sqrt(mse[mmp_i])\n",
    "    rg_error = np.stack([mse, mae, rmse], axis=1)\n",
    "    return rg_error\n",
    "\n",
    "\n",
    "def get_cl_errors(validation: np.array, threshold: int = 1.65) -> np.array:\n",
    "    # call classification metrics for each mmp\n",
    "    pred = validation[0, :, :] > threshold  # set label to 1 if the probability is larger than threshold\n",
    "    true = validation[1, :, :] > 1.65\n",
    "    p_score = np.zeros((18))\n",
    "    r_score = np.zeros((18))\n",
    "    f_score = np.zeros((18))\n",
    "    auc_score = np.zeros((18))\n",
    "    a_score = np.zeros((18))\n",
    "    for mmp_i in range(18):\n",
    "        p_score[mmp_i] = precision_score(true[:, mmp_i], pred[:, mmp_i])\n",
    "        r_score[mmp_i] = recall_score(true[:, mmp_i], pred[:, mmp_i])\n",
    "        f_score[mmp_i] = f1_score(true[:, mmp_i], pred[:, mmp_i])\n",
    "        auc_score[mmp_i] = roc_auc_score(true[:, mmp_i], pred[:, mmp_i])\n",
    "        a_score[mmp_i] = accuracy_score(true[:, mmp_i], pred[:, mmp_i])\n",
    "    cl_error = np.stack([auc_score, f_score, p_score, r_score, a_score], axis=1)\n",
    "    return cl_error"
   ],
   "metadata": {
    "collapsed": false,
    "ExecuteTime": {
     "end_time": "2024-05-31T23:34:22.679196900Z",
     "start_time": "2024-05-31T23:34:22.659197900Z"
    }
   }
  },
  {
   "cell_type": "code",
   "execution_count": 3,
   "metadata": {
    "ExecuteTime": {
     "end_time": "2024-05-31T23:23:42.820757300Z",
     "start_time": "2024-05-31T23:23:42.437967200Z"
    }
   },
   "outputs": [],
   "source": [
    "# load validation results\n",
    "lr_validation = np.load(\"./Result/lr_validation.npy\")\n",
    "dtr_validation = np.load(\"./Result/dtr_validation.npy\")\n",
    "xgb_validation = np.load(\"./Result/xgb_validation.npy\")\n",
    "cat_validation = np.load(\"./Result/cat_validation.npy\")\n",
    "\n",
    "nn_validation = np.load(\"./Result/nn_validation.npy\")\n",
    "bionn_validation = np.load(\"./Result/BioNN_validation.npy\")[-1]\n",
    "biodnn_validation = np.load(\"./Result/biodnn_validation.npy\")[-1]\n",
    "biores_validation = np.load(\"./Result/biores_validation.npy\")[-1]"
   ]
  },
  {
   "cell_type": "code",
   "execution_count": 4,
   "outputs": [
    {
     "data": {
      "text/plain": "                     mse    mae   rmse\nLinear Regression  0.533  0.569  0.728\nDecision Tree      0.688  0.636  0.828\nXGBoost            0.534  0.565  0.727\nCatBoost           0.463  0.526  0.677\nNeural Network     0.468  0.529  0.680\nBert+NN            0.466  0.528  0.679\nBert+DNN           0.487  0.539  0.694\nBert+ResNet        0.575  0.590  0.756",
      "text/html": "<div>\n<style scoped>\n    .dataframe tbody tr th:only-of-type {\n        vertical-align: middle;\n    }\n\n    .dataframe tbody tr th {\n        vertical-align: top;\n    }\n\n    .dataframe thead th {\n        text-align: right;\n    }\n</style>\n<table border=\"1\" class=\"dataframe\">\n  <thead>\n    <tr style=\"text-align: right;\">\n      <th></th>\n      <th>mse</th>\n      <th>mae</th>\n      <th>rmse</th>\n    </tr>\n  </thead>\n  <tbody>\n    <tr>\n      <th>Linear Regression</th>\n      <td>0.533</td>\n      <td>0.569</td>\n      <td>0.728</td>\n    </tr>\n    <tr>\n      <th>Decision Tree</th>\n      <td>0.688</td>\n      <td>0.636</td>\n      <td>0.828</td>\n    </tr>\n    <tr>\n      <th>XGBoost</th>\n      <td>0.534</td>\n      <td>0.565</td>\n      <td>0.727</td>\n    </tr>\n    <tr>\n      <th>CatBoost</th>\n      <td>0.463</td>\n      <td>0.526</td>\n      <td>0.677</td>\n    </tr>\n    <tr>\n      <th>Neural Network</th>\n      <td>0.468</td>\n      <td>0.529</td>\n      <td>0.680</td>\n    </tr>\n    <tr>\n      <th>Bert+NN</th>\n      <td>0.466</td>\n      <td>0.528</td>\n      <td>0.679</td>\n    </tr>\n    <tr>\n      <th>Bert+DNN</th>\n      <td>0.487</td>\n      <td>0.539</td>\n      <td>0.694</td>\n    </tr>\n    <tr>\n      <th>Bert+ResNet</th>\n      <td>0.575</td>\n      <td>0.590</td>\n      <td>0.756</td>\n    </tr>\n  </tbody>\n</table>\n</div>"
     },
     "execution_count": 4,
     "metadata": {},
     "output_type": "execute_result"
    }
   ],
   "source": [
    "# calculate regression metrics\n",
    "lr_rg_error = get_rg_errors(lr_validation).mean(axis=0)\n",
    "dtr_rg_error = get_rg_errors(dtr_validation).mean(axis=0)\n",
    "xgb_rg_error = get_rg_errors(xgb_validation).mean(axis=0)\n",
    "cat_rg_error = get_rg_errors(cat_validation).mean(axis=0)\n",
    "nn_rg_error = get_rg_errors(nn_validation).mean(axis=0)\n",
    "bionn_rg_error = get_rg_errors(bionn_validation).mean(axis=0)\n",
    "biodnn_rg_error = get_rg_errors(biodnn_validation).mean(axis=0)\n",
    "biores_rg_error = get_rg_errors(biores_validation).mean(axis=0)\n",
    "\n",
    "mmp_other_rg_error = np.stack([lr_rg_error, dtr_rg_error, xgb_rg_error, cat_rg_error, nn_rg_error, bionn_rg_error, biodnn_rg_error, biores_rg_error])\n",
    "mmp_other_rg_error = pd.DataFrame(mmp_other_rg_error, index=model_names, columns=[\"mse\", \"mae\", \"rmse\"])\n",
    "mmp_other_rg_error.round(3)"
   ],
   "metadata": {
    "collapsed": false,
    "ExecuteTime": {
     "end_time": "2024-05-31T23:23:48.391355400Z",
     "start_time": "2024-05-31T23:23:48.295356100Z"
    }
   }
  },
  {
   "cell_type": "code",
   "execution_count": 37,
   "outputs": [
    {
     "name": "stderr",
     "output_type": "stream",
     "text": [
      "C:\\Users\\Hongyi LAN\\anaconda3\\envs\\dsl_project\\lib\\site-packages\\sklearn\\metrics\\_classification.py:1509: UndefinedMetricWarning: Precision is ill-defined and being set to 0.0 due to no predicted samples. Use `zero_division` parameter to control this behavior.\n",
      "  _warn_prf(average, modifier, f\"{metric.capitalize()} is\", len(result))\n",
      "C:\\Users\\Hongyi LAN\\anaconda3\\envs\\dsl_project\\lib\\site-packages\\sklearn\\metrics\\_classification.py:1509: UndefinedMetricWarning: Precision is ill-defined and being set to 0.0 due to no predicted samples. Use `zero_division` parameter to control this behavior.\n",
      "  _warn_prf(average, modifier, f\"{metric.capitalize()} is\", len(result))\n",
      "C:\\Users\\Hongyi LAN\\anaconda3\\envs\\dsl_project\\lib\\site-packages\\sklearn\\metrics\\_classification.py:1509: UndefinedMetricWarning: Precision is ill-defined and being set to 0.0 due to no predicted samples. Use `zero_division` parameter to control this behavior.\n",
      "  _warn_prf(average, modifier, f\"{metric.capitalize()} is\", len(result))\n",
      "C:\\Users\\Hongyi LAN\\anaconda3\\envs\\dsl_project\\lib\\site-packages\\sklearn\\metrics\\_classification.py:1509: UndefinedMetricWarning: Precision is ill-defined and being set to 0.0 due to no predicted samples. Use `zero_division` parameter to control this behavior.\n",
      "  _warn_prf(average, modifier, f\"{metric.capitalize()} is\", len(result))\n",
      "C:\\Users\\Hongyi LAN\\anaconda3\\envs\\dsl_project\\lib\\site-packages\\sklearn\\metrics\\_classification.py:1509: UndefinedMetricWarning: Precision is ill-defined and being set to 0.0 due to no predicted samples. Use `zero_division` parameter to control this behavior.\n",
      "  _warn_prf(average, modifier, f\"{metric.capitalize()} is\", len(result))\n",
      "C:\\Users\\Hongyi LAN\\anaconda3\\envs\\dsl_project\\lib\\site-packages\\sklearn\\metrics\\_classification.py:1509: UndefinedMetricWarning: Precision is ill-defined and being set to 0.0 due to no predicted samples. Use `zero_division` parameter to control this behavior.\n",
      "  _warn_prf(average, modifier, f\"{metric.capitalize()} is\", len(result))\n",
      "C:\\Users\\Hongyi LAN\\anaconda3\\envs\\dsl_project\\lib\\site-packages\\sklearn\\metrics\\_classification.py:1509: UndefinedMetricWarning: Precision is ill-defined and being set to 0.0 due to no predicted samples. Use `zero_division` parameter to control this behavior.\n",
      "  _warn_prf(average, modifier, f\"{metric.capitalize()} is\", len(result))\n",
      "C:\\Users\\Hongyi LAN\\anaconda3\\envs\\dsl_project\\lib\\site-packages\\sklearn\\metrics\\_classification.py:1509: UndefinedMetricWarning: Precision is ill-defined and being set to 0.0 due to no predicted samples. Use `zero_division` parameter to control this behavior.\n",
      "  _warn_prf(average, modifier, f\"{metric.capitalize()} is\", len(result))\n",
      "C:\\Users\\Hongyi LAN\\anaconda3\\envs\\dsl_project\\lib\\site-packages\\sklearn\\metrics\\_classification.py:1509: UndefinedMetricWarning: Precision is ill-defined and being set to 0.0 due to no predicted samples. Use `zero_division` parameter to control this behavior.\n",
      "  _warn_prf(average, modifier, f\"{metric.capitalize()} is\", len(result))\n",
      "C:\\Users\\Hongyi LAN\\anaconda3\\envs\\dsl_project\\lib\\site-packages\\sklearn\\metrics\\_classification.py:1509: UndefinedMetricWarning: Precision is ill-defined and being set to 0.0 due to no predicted samples. Use `zero_division` parameter to control this behavior.\n",
      "  _warn_prf(average, modifier, f\"{metric.capitalize()} is\", len(result))\n",
      "C:\\Users\\Hongyi LAN\\anaconda3\\envs\\dsl_project\\lib\\site-packages\\sklearn\\metrics\\_classification.py:1509: UndefinedMetricWarning: Precision is ill-defined and being set to 0.0 due to no predicted samples. Use `zero_division` parameter to control this behavior.\n",
      "  _warn_prf(average, modifier, f\"{metric.capitalize()} is\", len(result))\n"
     ]
    },
    {
     "data": {
      "text/plain": "                     AUC     F1  Precision  Recall  Accuracy\nLinear Regression  0.517  0.068      0.783   0.036     0.945\nDecision Tree      0.531  0.116      0.418   0.067     0.942\nXGBoost            0.545  0.164      0.680   0.094     0.946\nCatBoost           0.541  0.150      0.797   0.083     0.947\nNeural Network     0.526  0.099      0.822   0.053     0.946\nBert+NN            0.517  0.065      0.837   0.034     0.945\nBert+DNN           0.522  0.082      0.804   0.044     0.945\nBert+ResNet        0.567  0.209      0.614   0.140     0.945",
      "text/html": "<div>\n<style scoped>\n    .dataframe tbody tr th:only-of-type {\n        vertical-align: middle;\n    }\n\n    .dataframe tbody tr th {\n        vertical-align: top;\n    }\n\n    .dataframe thead th {\n        text-align: right;\n    }\n</style>\n<table border=\"1\" class=\"dataframe\">\n  <thead>\n    <tr style=\"text-align: right;\">\n      <th></th>\n      <th>AUC</th>\n      <th>F1</th>\n      <th>Precision</th>\n      <th>Recall</th>\n      <th>Accuracy</th>\n    </tr>\n  </thead>\n  <tbody>\n    <tr>\n      <th>Linear Regression</th>\n      <td>0.517</td>\n      <td>0.068</td>\n      <td>0.783</td>\n      <td>0.036</td>\n      <td>0.945</td>\n    </tr>\n    <tr>\n      <th>Decision Tree</th>\n      <td>0.531</td>\n      <td>0.116</td>\n      <td>0.418</td>\n      <td>0.067</td>\n      <td>0.942</td>\n    </tr>\n    <tr>\n      <th>XGBoost</th>\n      <td>0.545</td>\n      <td>0.164</td>\n      <td>0.680</td>\n      <td>0.094</td>\n      <td>0.946</td>\n    </tr>\n    <tr>\n      <th>CatBoost</th>\n      <td>0.541</td>\n      <td>0.150</td>\n      <td>0.797</td>\n      <td>0.083</td>\n      <td>0.947</td>\n    </tr>\n    <tr>\n      <th>Neural Network</th>\n      <td>0.526</td>\n      <td>0.099</td>\n      <td>0.822</td>\n      <td>0.053</td>\n      <td>0.946</td>\n    </tr>\n    <tr>\n      <th>Bert+NN</th>\n      <td>0.517</td>\n      <td>0.065</td>\n      <td>0.837</td>\n      <td>0.034</td>\n      <td>0.945</td>\n    </tr>\n    <tr>\n      <th>Bert+DNN</th>\n      <td>0.522</td>\n      <td>0.082</td>\n      <td>0.804</td>\n      <td>0.044</td>\n      <td>0.945</td>\n    </tr>\n    <tr>\n      <th>Bert+ResNet</th>\n      <td>0.567</td>\n      <td>0.209</td>\n      <td>0.614</td>\n      <td>0.140</td>\n      <td>0.945</td>\n    </tr>\n  </tbody>\n</table>\n</div>"
     },
     "execution_count": 37,
     "metadata": {},
     "output_type": "execute_result"
    }
   ],
   "source": [
    "# calculate classification metrics (threshold = 2)\n",
    "# this threshold leads to a high precision, which is used to select models for MMP3 and MMP9 (make sure that the selected samples are really positive)\n",
    "# you may find there are some warnings, this is caused by the high threshold leads to most peptides are classified to 0, which makes the calculation of precision throw warnings. We check the result, and the warning mmps are MMP7 and MMP17, which are dropped in the following analysis (we only analyze mmp3 and mmp9 here), so we can ignore the warnings.\n",
    "threshold = 2\n",
    "lr_cl_error = get_cl_errors(lr_validation, threshold)[(2, 5), :].mean(axis=0)\n",
    "dtr_cl_error = get_cl_errors(dtr_validation, threshold)[(2, 5), :].mean(axis=0)\n",
    "xgb_cl_error = get_cl_errors(xgb_validation, threshold)[(2, 5), :].mean(axis=0)\n",
    "cat_cl_error = get_cl_errors(cat_validation, threshold)[(2, 5), :].mean(axis=0)\n",
    "nn_cl_error = get_cl_errors(nn_validation, threshold)[(2, 5), :].mean(axis=0)\n",
    "bionn_cl_error = get_cl_errors(bionn_validation, threshold)[(2, 5), :].mean(axis=0)\n",
    "biodnn_cl_error = get_cl_errors(biodnn_validation, threshold)[(2, 5), :].mean(axis=0)\n",
    "biores_cl_error = get_cl_errors(biores_validation, threshold)[(2, 5), :].mean(axis=0)\n",
    "\n",
    "all_cl_error = np.stack([lr_cl_error, dtr_cl_error, xgb_cl_error, cat_cl_error, nn_cl_error, bionn_cl_error, biodnn_cl_error, biores_cl_error])\n",
    "all_cl_error = pd.DataFrame(all_cl_error, index=model_names, columns=[\"AUC\", \"F1\", \"Precision\", \"Recall\", \"Accuracy\"])\n",
    "all_cl_error.round(3)"
   ],
   "metadata": {
    "collapsed": false,
    "ExecuteTime": {
     "end_time": "2024-05-31T23:47:23.120961600Z",
     "start_time": "2024-05-31T23:47:21.797019200Z"
    }
   }
  },
  {
   "cell_type": "code",
   "execution_count": 6,
   "metadata": {
    "ExecuteTime": {
     "end_time": "2024-05-31T23:25:21.727280Z",
     "start_time": "2024-05-31T23:25:20.125229800Z"
    }
   },
   "outputs": [
    {
     "data": {
      "text/plain": "                     AUC     F1  Precision  Recall  Accuracy\nLinear Regression  0.766  0.234      0.134   0.963     0.593\nDecision Tree      0.758  0.243      0.142   0.911     0.623\nXGBoost            0.776  0.247      0.144   0.955     0.619\nCatBoost           0.785  0.252      0.147   0.968     0.624\nNeural Network     0.811  0.288      0.173   0.957     0.683\nBert+NN            0.775  0.240      0.139   0.973     0.602\nBert+DNN           0.781  0.247      0.143   0.971     0.614\nBert+ResNet        0.788  0.257      0.150   0.965     0.632",
      "text/html": "<div>\n<style scoped>\n    .dataframe tbody tr th:only-of-type {\n        vertical-align: middle;\n    }\n\n    .dataframe tbody tr th {\n        vertical-align: top;\n    }\n\n    .dataframe thead th {\n        text-align: right;\n    }\n</style>\n<table border=\"1\" class=\"dataframe\">\n  <thead>\n    <tr style=\"text-align: right;\">\n      <th></th>\n      <th>AUC</th>\n      <th>F1</th>\n      <th>Precision</th>\n      <th>Recall</th>\n      <th>Accuracy</th>\n    </tr>\n  </thead>\n  <tbody>\n    <tr>\n      <th>Linear Regression</th>\n      <td>0.766</td>\n      <td>0.234</td>\n      <td>0.134</td>\n      <td>0.963</td>\n      <td>0.593</td>\n    </tr>\n    <tr>\n      <th>Decision Tree</th>\n      <td>0.758</td>\n      <td>0.243</td>\n      <td>0.142</td>\n      <td>0.911</td>\n      <td>0.623</td>\n    </tr>\n    <tr>\n      <th>XGBoost</th>\n      <td>0.776</td>\n      <td>0.247</td>\n      <td>0.144</td>\n      <td>0.955</td>\n      <td>0.619</td>\n    </tr>\n    <tr>\n      <th>CatBoost</th>\n      <td>0.785</td>\n      <td>0.252</td>\n      <td>0.147</td>\n      <td>0.968</td>\n      <td>0.624</td>\n    </tr>\n    <tr>\n      <th>Neural Network</th>\n      <td>0.811</td>\n      <td>0.288</td>\n      <td>0.173</td>\n      <td>0.957</td>\n      <td>0.683</td>\n    </tr>\n    <tr>\n      <th>Bert+NN</th>\n      <td>0.775</td>\n      <td>0.240</td>\n      <td>0.139</td>\n      <td>0.973</td>\n      <td>0.602</td>\n    </tr>\n    <tr>\n      <th>Bert+DNN</th>\n      <td>0.781</td>\n      <td>0.247</td>\n      <td>0.143</td>\n      <td>0.971</td>\n      <td>0.614</td>\n    </tr>\n    <tr>\n      <th>Bert+ResNet</th>\n      <td>0.788</td>\n      <td>0.257</td>\n      <td>0.150</td>\n      <td>0.965</td>\n      <td>0.632</td>\n    </tr>\n  </tbody>\n</table>\n</div>"
     },
     "execution_count": 6,
     "metadata": {},
     "output_type": "execute_result"
    }
   ],
   "source": [
    "# calculate classification metrics (threshold = 2)\n",
    "# this threshold lead to a high recall, which is used to select models for MMPs except for MMP3 and MMP9 (make sure that the model can detect the positive samples)\n",
    "threshold = 0\n",
    "lr_cl_error = get_cl_errors(lr_validation, threshold)[list(set(range(18)) - {2, 5}), :].mean(axis=0)\n",
    "dtr_cl_error = get_cl_errors(dtr_validation, threshold)[list(set(range(18)) - {2, 5}), :].mean(axis=0)\n",
    "xgb_cl_error = get_cl_errors(xgb_validation, threshold)[list(set(range(18)) - {2, 5}), :].mean(axis=0)\n",
    "cat_cl_error = get_cl_errors(cat_validation, threshold)[list(set(range(18)) - {2, 5}), :].mean(axis=0)\n",
    "nn_cl_error = get_cl_errors(nn_validation, threshold)[list(set(range(18)) - {2, 5}), :].mean(axis=0)\n",
    "bionn_cl_error = get_cl_errors(bionn_validation, threshold)[list(set(range(18)) - {2, 5}), :].mean(axis=0)\n",
    "biodnn_cl_error = get_cl_errors(biodnn_validation, threshold)[list(set(range(18)) - {2, 5}), :].mean(axis=0)\n",
    "biores_cl_error = get_cl_errors(biores_validation, threshold)[list(set(range(18)) - {2, 5}), :].mean(axis=0)\n",
    "\n",
    "all_cl_error = np.stack([lr_cl_error, dtr_cl_error, xgb_cl_error, cat_cl_error, nn_cl_error, bionn_cl_error, biodnn_cl_error, biores_cl_error])\n",
    "all_cl_error = pd.DataFrame(all_cl_error, index=model_names, columns=[\"AUC\", \"F1\", \"Precision\", \"Recall\", \"Accuracy\"])\n",
    "all_cl_error.round(3)"
   ]
  },
  {
   "cell_type": "markdown",
   "metadata": {},
   "source": [
    "## Calibration"
   ]
  },
  {
   "cell_type": "code",
   "execution_count": 11,
   "metadata": {
    "ExecuteTime": {
     "end_time": "2024-05-31T23:27:18.381430Z",
     "start_time": "2024-05-31T23:27:18.372430900Z"
    }
   },
   "outputs": [],
   "source": [
    "# extract the prediction\n",
    "biores_pred = biores_validation[0, :, :]\n",
    "bionn_pred = bionn_validation[0, :, :]\n",
    "biodnn_pred = biodnn_validation[0, :, :]\n",
    "nn_pred = nn_validation[0, :, :]\n",
    "cat_pred = cat_validation[0, :, :]"
   ]
  },
  {
   "cell_type": "code",
   "execution_count": 36,
   "metadata": {
    "ExecuteTime": {
     "end_time": "2024-05-31T23:37:28.935427800Z",
     "start_time": "2024-05-31T23:37:26.848525400Z"
    }
   },
   "outputs": [
    {
     "name": "stderr",
     "output_type": "stream",
     "text": [
      "C:\\Users\\Hongyi LAN\\anaconda3\\envs\\dsl_project\\lib\\site-packages\\seaborn\\_oldcore.py:1119: FutureWarning: use_inf_as_na option is deprecated and will be removed in a future version. Convert inf values to NaN before operating instead.\n",
      "  with pd.option_context('mode.use_inf_as_na', True):\n",
      "C:\\Users\\Hongyi LAN\\anaconda3\\envs\\dsl_project\\lib\\site-packages\\seaborn\\_oldcore.py:1119: FutureWarning: use_inf_as_na option is deprecated and will be removed in a future version. Convert inf values to NaN before operating instead.\n",
      "  with pd.option_context('mode.use_inf_as_na', True):\n",
      "C:\\Users\\Hongyi LAN\\AppData\\Local\\Temp\\ipykernel_47616\\132502819.py:19: UserWarning: FigureCanvasAgg is non-interactive, and thus cannot be shown\n",
      "  fig.show()\n"
     ]
    },
    {
     "data": {
      "text/plain": "<Figure size 640x480 with 1 Axes>",
      "image/png": "[encoded data removed]"
     },
     "metadata": {},
     "output_type": "display_data"
    }
   ],
   "source": [
    "# compare the distribution of truth and prediction by different models\n",
    "biores_pred_all = biores_pred.flatten()\n",
    "bionn_pred_all = bionn_pred.flatten()\n",
    "biodnn_pred_all = biodnn_pred.flatten()\n",
    "cat_pred_all = cat_pred.flatten()\n",
    "nn_pred_all = nn_pred.flatten()\n",
    "true_all = biores_validation[1, :, :].flatten()\n",
    "\n",
    "fig, ax = plt.subplots(1, 1)\n",
    "# sns.kdeplot(biores_pred_all, fill=True, ax=ax, color=\"blue\", label=\"BioRes\")\n",
    "sns.kdeplot(bionn_pred_all, fill=True, ax=ax, color=\"orange\", label=\"BioNN\")\n",
    "# sns.kdeplot(biodnn_pred_all, fill=True, ax=ax, color=\"green\", label=\"BioDNN\")\n",
    "# sns.kdeplot(cat_pred_all, fill=True, ax=ax, color=\"pink\", label=\"CatBoost\")\n",
    "# sns.kdeplot(nn_pred_all, fill=True, ax=ax, color=\"yellow\", label=\"NN\")\n",
    "sns.kdeplot(true_all, fill=True, ax=ax, color=\"purple\", label=\"Truth\")\n",
    "fig.legend()\n",
    "fig.show()"
   ]
  }
 ],
 "metadata": {
  "kernelspec": {
   "display_name": "dsl_project",
   "language": "python",
   "name": "python3"
  },
  "language_info": {
   "codemirror_mode": {
    "name": "ipython",
    "version": 3
   },
   "file_extension": ".py",
   "mimetype": "text/x-python",
   "name": "python",
   "nbconvert_exporter": "python",
   "pygments_lexer": "ipython3",
   "version": "3.10.14"
  }
 },
 "nbformat": 4,
 "nbformat_minor": 2
}
