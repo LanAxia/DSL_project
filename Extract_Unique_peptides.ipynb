{
 "cells": [
  {
   "cell_type": "markdown",
   "source": [
    "# Extract Unique Peptides"
   ],
   "metadata": {
    "collapsed": false
   },
   "id": "51942593a4c55c4c"
  },
  {
   "cell_type": "markdown",
   "source": [
    "## Import Libraries"
   ],
   "metadata": {
    "collapsed": false
   },
   "id": "2695e16865c1a0b2"
  },
  {
   "cell_type": "code",
   "execution_count": 2,
   "id": "initial_id",
   "metadata": {
    "collapsed": true,
    "ExecuteTime": {
     "end_time": "2024-05-10T20:32:18.870528100Z",
     "start_time": "2024-05-10T20:32:18.852528100Z"
    }
   },
   "outputs": [],
   "source": [
    "# import libraries\n",
    "import numpy as np\n",
    "import pandas as pd\n",
    "from tqdm import tqdm\n",
    "from collections import Counter\n",
    "\n",
    "import sklearn\n",
    "from sklearn.model_selection import train_test_split\n",
    "\n",
    "import torch\n",
    "import torch.nn as nn\n",
    "from torch.utils.data import Dataset, DataLoader\n",
    "import torch.nn.functional as F\n",
    "import torch.optim as optim\n",
    "\n",
    "from transformers import BertTokenizerFast, BertModel\n",
    "\n",
    "\n",
    "# 导入其他文件\n",
    "from extract_features import load_features, load_pred_features\n",
    "from models import BioNN, BioDeepNN, BioResNet\n",
    "from Model_Training import PeptidesDataLoader\n",
    "\n",
    "# constant\n",
    "SAVE = True\n",
    "device = torch.device(\"cuda\") if torch.cuda.is_available() else torch.device(\"CPU\")"
   ]
  },
  {
   "cell_type": "markdown",
   "source": [
    "## Load Model"
   ],
   "metadata": {
    "collapsed": false
   },
   "id": "3274979f049fda5c"
  },
  {
   "cell_type": "code",
   "execution_count": 5,
   "outputs": [
    {
     "name": "stderr",
     "output_type": "stream",
     "text": [
      "Some weights of BertModel were not initialized from the model checkpoint at unikei/bert-base-proteins and are newly initialized: ['bert.pooler.dense.bias', 'bert.pooler.dense.weight']\n",
      "You should probably TRAIN this model on a down-stream task to be able to use it for predictions and inference.\n"
     ]
    },
    {
     "ename": "RuntimeError",
     "evalue": "Error(s) in loading state_dict for BioDeepNN:\n\tMissing key(s) in state_dict: \"nn4.weight\", \"nn4.bias\", \"nn5.weight\", \"nn5.bias\". \n\tsize mismatch for nn1.weight: copying a param with shape torch.Size([512, 10350]) from checkpoint, the shape in current model is torch.Size([512, 768]).\n\tsize mismatch for nn2.weight: copying a param with shape torch.Size([256, 512]) from checkpoint, the shape in current model is torch.Size([512, 512]).\n\tsize mismatch for nn2.bias: copying a param with shape torch.Size([256]) from checkpoint, the shape in current model is torch.Size([512]).\n\tsize mismatch for nn3.weight: copying a param with shape torch.Size([18, 256]) from checkpoint, the shape in current model is torch.Size([512, 512]).\n\tsize mismatch for nn3.bias: copying a param with shape torch.Size([18]) from checkpoint, the shape in current model is torch.Size([512]).",
     "output_type": "error",
     "traceback": [
      "\u001B[1;31m---------------------------------------------------------------------------\u001B[0m",
      "\u001B[1;31mRuntimeError\u001B[0m                              Traceback (most recent call last)",
      "Cell \u001B[1;32mIn[5], line 10\u001B[0m\n\u001B[0;32m      7\u001B[0m bert_model\u001B[38;5;241m.\u001B[39meval()\n\u001B[0;32m      9\u001B[0m bio_model \u001B[38;5;241m=\u001B[39m BioDeepNN()\u001B[38;5;241m.\u001B[39mto(device)\n\u001B[1;32m---> 10\u001B[0m \u001B[43mbio_model\u001B[49m\u001B[38;5;241;43m.\u001B[39;49m\u001B[43mload_state_dict\u001B[49m\u001B[43m(\u001B[49m\u001B[43mtorch\u001B[49m\u001B[38;5;241;43m.\u001B[39;49m\u001B[43mload\u001B[49m\u001B[43m(\u001B[49m\u001B[38;5;124;43m'\u001B[39;49m\u001B[38;5;124;43m./Model/bio_model.pth\u001B[39;49m\u001B[38;5;124;43m'\u001B[39;49m\u001B[43m)\u001B[49m\u001B[43m)\u001B[49m\n\u001B[0;32m     11\u001B[0m bio_model\u001B[38;5;241m.\u001B[39meval()\n",
      "File \u001B[1;32m~\\miniconda3\\envs\\dsl_project\\lib\\site-packages\\torch\\nn\\modules\\module.py:2153\u001B[0m, in \u001B[0;36mModule.load_state_dict\u001B[1;34m(self, state_dict, strict, assign)\u001B[0m\n\u001B[0;32m   2148\u001B[0m         error_msgs\u001B[38;5;241m.\u001B[39minsert(\n\u001B[0;32m   2149\u001B[0m             \u001B[38;5;241m0\u001B[39m, \u001B[38;5;124m'\u001B[39m\u001B[38;5;124mMissing key(s) in state_dict: \u001B[39m\u001B[38;5;132;01m{}\u001B[39;00m\u001B[38;5;124m. \u001B[39m\u001B[38;5;124m'\u001B[39m\u001B[38;5;241m.\u001B[39mformat(\n\u001B[0;32m   2150\u001B[0m                 \u001B[38;5;124m'\u001B[39m\u001B[38;5;124m, \u001B[39m\u001B[38;5;124m'\u001B[39m\u001B[38;5;241m.\u001B[39mjoin(\u001B[38;5;124mf\u001B[39m\u001B[38;5;124m'\u001B[39m\u001B[38;5;124m\"\u001B[39m\u001B[38;5;132;01m{\u001B[39;00mk\u001B[38;5;132;01m}\u001B[39;00m\u001B[38;5;124m\"\u001B[39m\u001B[38;5;124m'\u001B[39m \u001B[38;5;28;01mfor\u001B[39;00m k \u001B[38;5;129;01min\u001B[39;00m missing_keys)))\n\u001B[0;32m   2152\u001B[0m \u001B[38;5;28;01mif\u001B[39;00m \u001B[38;5;28mlen\u001B[39m(error_msgs) \u001B[38;5;241m>\u001B[39m \u001B[38;5;241m0\u001B[39m:\n\u001B[1;32m-> 2153\u001B[0m     \u001B[38;5;28;01mraise\u001B[39;00m \u001B[38;5;167;01mRuntimeError\u001B[39;00m(\u001B[38;5;124m'\u001B[39m\u001B[38;5;124mError(s) in loading state_dict for \u001B[39m\u001B[38;5;132;01m{}\u001B[39;00m\u001B[38;5;124m:\u001B[39m\u001B[38;5;130;01m\\n\u001B[39;00m\u001B[38;5;130;01m\\t\u001B[39;00m\u001B[38;5;132;01m{}\u001B[39;00m\u001B[38;5;124m'\u001B[39m\u001B[38;5;241m.\u001B[39mformat(\n\u001B[0;32m   2154\u001B[0m                        \u001B[38;5;28mself\u001B[39m\u001B[38;5;241m.\u001B[39m\u001B[38;5;18m__class__\u001B[39m\u001B[38;5;241m.\u001B[39m\u001B[38;5;18m__name__\u001B[39m, \u001B[38;5;124m\"\u001B[39m\u001B[38;5;130;01m\\n\u001B[39;00m\u001B[38;5;130;01m\\t\u001B[39;00m\u001B[38;5;124m\"\u001B[39m\u001B[38;5;241m.\u001B[39mjoin(error_msgs)))\n\u001B[0;32m   2155\u001B[0m \u001B[38;5;28;01mreturn\u001B[39;00m _IncompatibleKeys(missing_keys, unexpected_keys)\n",
      "\u001B[1;31mRuntimeError\u001B[0m: Error(s) in loading state_dict for BioDeepNN:\n\tMissing key(s) in state_dict: \"nn4.weight\", \"nn4.bias\", \"nn5.weight\", \"nn5.bias\". \n\tsize mismatch for nn1.weight: copying a param with shape torch.Size([512, 10350]) from checkpoint, the shape in current model is torch.Size([512, 768]).\n\tsize mismatch for nn2.weight: copying a param with shape torch.Size([256, 512]) from checkpoint, the shape in current model is torch.Size([512, 512]).\n\tsize mismatch for nn2.bias: copying a param with shape torch.Size([256]) from checkpoint, the shape in current model is torch.Size([512]).\n\tsize mismatch for nn3.weight: copying a param with shape torch.Size([18, 256]) from checkpoint, the shape in current model is torch.Size([512, 512]).\n\tsize mismatch for nn3.bias: copying a param with shape torch.Size([18]) from checkpoint, the shape in current model is torch.Size([512])."
     ]
    }
   ],
   "source": [
    "# 加载Bert模型和Bio模型\n",
    "checkpoint = 'unikei/bert-base-proteins'\n",
    "tokenizer = BertTokenizerFast.from_pretrained(checkpoint)\n",
    "\n",
    "bert_model = BertModel.from_pretrained(checkpoint).to(device)\n",
    "bert_model.load_state_dict(torch.load('./Model/bert_model.pth'))\n",
    "bert_model.eval()\n",
    "\n",
    "bio_model = BioDeepNN().to(device)\n",
    "bio_model.load_state_dict(torch.load('./Model/bio_model.pth'))\n",
    "bio_model.eval()"
   ],
   "metadata": {
    "collapsed": false,
    "ExecuteTime": {
     "end_time": "2024-05-10T19:17:52.775410300Z",
     "start_time": "2024-05-10T19:17:51.437530200Z"
    }
   },
   "id": "31365edba01c8147"
  },
  {
   "cell_type": "markdown",
   "source": [
    "## Load Data"
   ],
   "metadata": {
    "collapsed": false
   },
   "id": "bb92ab8075130a50"
  },
  {
   "cell_type": "code",
   "execution_count": 34,
   "outputs": [
    {
     "data": {
      "text/plain": "  protease  0  1  2  3  4  5  6  7\n0  A01.003  F  G  D  L  S  V  T  Y\n1  A01.003  L  G  E  F  L  R  T  H\n2  A01.003  F  T  S  D  Y  S  K  Y\n4  A01.003  Q  G  T  F  T  S  D  Y\n5  A01.003  A  Q  D  F  V  Q  W  L",
      "text/html": "<div>\n<style scoped>\n    .dataframe tbody tr th:only-of-type {\n        vertical-align: middle;\n    }\n\n    .dataframe tbody tr th {\n        vertical-align: top;\n    }\n\n    .dataframe thead th {\n        text-align: right;\n    }\n</style>\n<table border=\"1\" class=\"dataframe\">\n  <thead>\n    <tr style=\"text-align: right;\">\n      <th></th>\n      <th>protease</th>\n      <th>0</th>\n      <th>1</th>\n      <th>2</th>\n      <th>3</th>\n      <th>4</th>\n      <th>5</th>\n      <th>6</th>\n      <th>7</th>\n    </tr>\n  </thead>\n  <tbody>\n    <tr>\n      <th>0</th>\n      <td>A01.003</td>\n      <td>F</td>\n      <td>G</td>\n      <td>D</td>\n      <td>L</td>\n      <td>S</td>\n      <td>V</td>\n      <td>T</td>\n      <td>Y</td>\n    </tr>\n    <tr>\n      <th>1</th>\n      <td>A01.003</td>\n      <td>L</td>\n      <td>G</td>\n      <td>E</td>\n      <td>F</td>\n      <td>L</td>\n      <td>R</td>\n      <td>T</td>\n      <td>H</td>\n    </tr>\n    <tr>\n      <th>2</th>\n      <td>A01.003</td>\n      <td>F</td>\n      <td>T</td>\n      <td>S</td>\n      <td>D</td>\n      <td>Y</td>\n      <td>S</td>\n      <td>K</td>\n      <td>Y</td>\n    </tr>\n    <tr>\n      <th>4</th>\n      <td>A01.003</td>\n      <td>Q</td>\n      <td>G</td>\n      <td>T</td>\n      <td>F</td>\n      <td>T</td>\n      <td>S</td>\n      <td>D</td>\n      <td>Y</td>\n    </tr>\n    <tr>\n      <th>5</th>\n      <td>A01.003</td>\n      <td>A</td>\n      <td>Q</td>\n      <td>D</td>\n      <td>F</td>\n      <td>V</td>\n      <td>Q</td>\n      <td>W</td>\n      <td>L</td>\n    </tr>\n  </tbody>\n</table>\n</div>"
     },
     "execution_count": 34,
     "metadata": {},
     "output_type": "execute_result"
    }
   ],
   "source": [
    "# 加载数据\n",
    "data = pd.read_csv(\"./Data/Protease_Peptides.csv\", sep=\"\\t\")\n",
    "data = data[(data.iloc[:, 1:] != \"-\").sum(axis=1) == 8]  # 删除含有\"-\"的数据行\n",
    "# 38727 rows\n",
    "\n",
    "# 将3位缩写的氨基酸转换为1位缩写\n",
    "amino_3_to_1 = dict()\n",
    "amino_table = pd.read_csv(\"./Data/amino_table.csv\", header=None, sep=\"\\t\")\n",
    "for i, x in amino_table.iterrows():\n",
    "    amino_3_to_1[x[3].lower()] = x[2]\n",
    "\n",
    "data.iloc[:, 1:] = data.iloc[:, 1:].map(lambda x: amino_3_to_1[x.lower()])\n",
    "data.head()"
   ],
   "metadata": {
    "collapsed": false,
    "ExecuteTime": {
     "end_time": "2024-05-10T19:33:23.294676800Z",
     "start_time": "2024-05-10T19:33:23.214167800Z"
    }
   },
   "id": "20bd0c77c5f667f5"
  },
  {
   "cell_type": "code",
   "execution_count": 46,
   "outputs": [
    {
     "data": {
      "text/plain": "          0\n0  FGDLSVTY\n1  LGEFLRTH\n2  FTSDYSKY\n3  QGTFTSDY\n4  AQDFVQWL",
      "text/html": "<div>\n<style scoped>\n    .dataframe tbody tr th:only-of-type {\n        vertical-align: middle;\n    }\n\n    .dataframe tbody tr th {\n        vertical-align: top;\n    }\n\n    .dataframe thead th {\n        text-align: right;\n    }\n</style>\n<table border=\"1\" class=\"dataframe\">\n  <thead>\n    <tr style=\"text-align: right;\">\n      <th></th>\n      <th>0</th>\n    </tr>\n  </thead>\n  <tbody>\n    <tr>\n      <th>0</th>\n      <td>FGDLSVTY</td>\n    </tr>\n    <tr>\n      <th>1</th>\n      <td>LGEFLRTH</td>\n    </tr>\n    <tr>\n      <th>2</th>\n      <td>FTSDYSKY</td>\n    </tr>\n    <tr>\n      <th>3</th>\n      <td>QGTFTSDY</td>\n    </tr>\n    <tr>\n      <th>4</th>\n      <td>AQDFVQWL</td>\n    </tr>\n  </tbody>\n</table>\n</div>"
     },
     "execution_count": 46,
     "metadata": {},
     "output_type": "execute_result"
    }
   ],
   "source": [
    "# 生成peptides文件，用于让extract_features文件提取特征\n",
    "peptides = [\"\".join(x.tolist()) for i, x in data.iloc[:, 1:].iterrows()]\n",
    "peptides = pd.DataFrame(peptides)\n",
    "peptides.to_csv(\"./Cache/to_predict_peptides.csv\", index=False, header=False)\n",
    "peptides.head()"
   ],
   "metadata": {
    "collapsed": false,
    "ExecuteTime": {
     "end_time": "2024-05-10T19:46:44.653505500Z",
     "start_time": "2024-05-10T19:46:44.082630500Z"
    }
   },
   "id": "6b70810c709fbdf"
  },
  {
   "cell_type": "code",
   "execution_count": 3,
   "outputs": [
    {
     "ename": "NameError",
     "evalue": "name 'peptides' is not defined",
     "output_type": "error",
     "traceback": [
      "\u001B[1;31m---------------------------------------------------------------------------\u001B[0m",
      "\u001B[1;31mNameError\u001B[0m                                 Traceback (most recent call last)",
      "Cell \u001B[1;32mIn[3], line 5\u001B[0m\n\u001B[0;32m      2\u001B[0m features_x \u001B[38;5;241m=\u001B[39m load_pred_features()\u001B[38;5;241m.\u001B[39miloc[:, \u001B[38;5;241m1\u001B[39m:]\u001B[38;5;241m.\u001B[39mvalues  \u001B[38;5;66;03m# 不保留peptides列\u001B[39;00m\n\u001B[0;32m      3\u001B[0m features_x \u001B[38;5;241m=\u001B[39m torch\u001B[38;5;241m.\u001B[39mfrom_numpy(features_x)\n\u001B[1;32m----> 5\u001B[0m peptides \u001B[38;5;241m=\u001B[39m \u001B[43mpeptides\u001B[49m\u001B[38;5;241m.\u001B[39miloc[:, \u001B[38;5;241m0\u001B[39m]\u001B[38;5;241m.\u001B[39mvalues\u001B[38;5;241m.\u001B[39mtolist()\n\u001B[0;32m      6\u001B[0m dataloader \u001B[38;5;241m=\u001B[39m PeptidesDataLoader(peptides, features_x, \u001B[38;5;241m512\u001B[39m, shuffle\u001B[38;5;241m=\u001B[39m\u001B[38;5;28;01mFalse\u001B[39;00m)\n",
      "\u001B[1;31mNameError\u001B[0m: name 'peptides' is not defined"
     ]
    }
   ],
   "source": [
    "# 加载所有特征\n",
    "features_x = load_pred_features().iloc[:, 1:].values  # 不保留peptides列\n",
    "features_x = torch.from_numpy(features_x)\n",
    "\n",
    "peptides = peptides.iloc[:, 0].values.tolist()\n",
    "dataloader = PeptidesDataLoader(peptides, features_x, 512, shuffle=False)"
   ],
   "metadata": {
    "collapsed": false,
    "ExecuteTime": {
     "end_time": "2024-05-10T21:35:37.747865100Z",
     "start_time": "2024-05-10T21:35:36.212129600Z"
    }
   },
   "id": "3d6e748776122243"
  },
  {
   "cell_type": "code",
   "execution_count": null,
   "outputs": [],
   "source": [
    "# 预测测试集的各MMP结果\n",
    "test_pred = []\n",
    "regular_coefficient = 6.82  # 这个值取决于训练时的regular_coefficient\n",
    "with torch.no_grad():\n",
    "    for peptides_epoch, features_epoch in dataloader:\n",
    "        tokens_epoch = tokenizer(peptides_epoch, return_tensors='pt').to(device)\n",
    "        bert_output = bert_model(**tokens_epoch).last_hidden_state.view(len(peptides_epoch), -1)  # 将embed结果铺平\n",
    "        bio_input = torch.cat([bert_output, features_epoch.to(device)], dim=1)\n",
    "\n",
    "        bio_output = bio_model(bio_input)\n",
    "        test_pred.append(bio_output.to(\"cpu\"))\n",
    "test_pred = torch.cat(test_pred, dim=0).detach().numpy() * regular_coefficient"
   ],
   "metadata": {
    "collapsed": false
   },
   "id": "218f169e9fc6cfd8"
  }
 ],
 "metadata": {
  "kernelspec": {
   "display_name": "Python 3",
   "language": "python",
   "name": "python3"
  },
  "language_info": {
   "codemirror_mode": {
    "name": "ipython",
    "version": 2
   },
   "file_extension": ".py",
   "mimetype": "text/x-python",
   "name": "python",
   "nbconvert_exporter": "python",
   "pygments_lexer": "ipython2",
   "version": "2.7.6"
  }
 },
 "nbformat": 4,
 "nbformat_minor": 5
}
