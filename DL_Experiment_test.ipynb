{
 "cells": [
  {
   "cell_type": "code",
   "execution_count": 1,
   "metadata": {},
   "outputs": [],
   "source": [
    "# import libraries\n",
    "import torch\n",
    "import torch.nn as nn\n",
    "import torch.nn.functional as F"
   ]
  },
  {
   "cell_type": "code",
   "execution_count": 68,
   "metadata": {},
   "outputs": [
    {
     "data": {
      "text/plain": [
       "torch.Size([5, 320])"
      ]
     },
     "execution_count": 68,
     "metadata": {},
     "output_type": "execute_result"
    }
   ],
   "source": [
    "class LSTMFilter(nn.Module):\n",
    "    # 定义LSTM模型\n",
    "    def __init__(self, input_dim: int = 768, target_dim: int = 16) -> None:\n",
    "        super(LSTMFilter, self).__init__()\n",
    "        self.lstm = nn.LSTM(input_dim, target_dim, batch_first=True, bidirectional=True)  # 输出维度是16*2=32\n",
    "\n",
    "    def forward(self, x: torch.Tensor):\n",
    "        output, _ = self.lstm(x)\n",
    "        return output.reshape(output.size(0), -1)\n",
    "\n",
    "test_x = torch.randn(5, 10, 768)\n",
    "lstm = LSTMFilter(768, 16)\n",
    "output = lstm(test_x)\n",
    "output.shape"
   ]
  },
  {
   "cell_type": "code",
   "execution_count": 65,
   "metadata": {},
   "outputs": [
    {
     "data": {
      "text/plain": [
       "torch.Size([5, 256])"
      ]
     },
     "execution_count": 65,
     "metadata": {},
     "output_type": "execute_result"
    }
   ],
   "source": [
    "class CNNLayer(nn.Module):\n",
    "    # 定义CNN层\n",
    "    def __init__(self, in_channels: int = 8, out_channels: int = 16, kernel_size: int = 7, stride: int = 2) -> None:\n",
    "        super(CNNLayer, self).__init__()\n",
    "        self.cnn = nn.Conv1d(in_channels=in_channels, out_channels=out_channels, kernel_size=kernel_size, stride=stride, padding=kernel_size // 2)\n",
    "        self.pool = nn.MaxPool1d(kernel_size=kernel_size, stride=1, padding=kernel_size // 2)\n",
    "        self.bn = nn.BatchNorm1d(out_channels)\n",
    "    \n",
    "    def forward(self, x: torch.Tensor):\n",
    "        output = self.cnn(x)\n",
    "        output = self.pool(output)\n",
    "        output = self.bn(output)\n",
    "        return output\n",
    "\n",
    "class CNNFilter(nn.Module):\n",
    "    # 定义CNN滤波器\n",
    "    def __init__(self, in_channels: int = 8, kernel_size: int = 7) -> None:\n",
    "        super(CNNFilter, self).__init__()\n",
    "        self.cnn1 = CNNLayer(in_channels, 1, kernel_size, stride=3)\n",
    "        self.cnn2 = CNNLayer(1, 1, kernel_size, stride=1)\n",
    "    \n",
    "    def forward(self, x: torch.Tensor):\n",
    "        output = self.cnn1(x)\n",
    "        output = self.cnn2(output)\n",
    "        output = output.squeeze(1)\n",
    "        return output\n",
    "    \n",
    "test_x = torch.randn(5, 10, 768)\n",
    "cnn = CNNFilter(10, 7)\n",
    "output = cnn(test_x)\n",
    "output.shape"
   ]
  },
  {
   "cell_type": "code",
   "execution_count": 63,
   "metadata": {},
   "outputs": [
    {
     "data": {
      "text/plain": [
       "torch.Size([5, 256])"
      ]
     },
     "execution_count": 63,
     "metadata": {},
     "output_type": "execute_result"
    }
   ],
   "source": [
    "class LSTMEncoder(nn.Module):\n",
    "    # 定义LSTM编码器\n",
    "    def __init__(self, input_dim: int = 768, target_dim: int = 128) -> None:\n",
    "        super(LSTMEncoder, self).__init__()\n",
    "        self.lstm = nn.LSTM(input_dim, target_dim, batch_first=True, bidirectional=True)  # 输出维度是128*2=256\n",
    "    \n",
    "    def forward(self, x: torch.Tensor):\n",
    "        seq, (h, c) = self.lstm(x)\n",
    "        return torch.cat([h[0], h[1]], dim=1)\n",
    "\n",
    "test_x = torch.randn(5, 10, 768)\n",
    "lstm = LSTMEncoder(768, 128)\n",
    "h = lstm(test_x)\n",
    "h.shape"
   ]
  }
 ],
 "metadata": {
  "kernelspec": {
   "display_name": "dsl_project",
   "language": "python",
   "name": "python3"
  },
  "language_info": {
   "codemirror_mode": {
    "name": "ipython",
    "version": 3
   },
   "file_extension": ".py",
   "mimetype": "text/x-python",
   "name": "python",
   "nbconvert_exporter": "python",
   "pygments_lexer": "ipython3",
   "version": "3.10.14"
  }
 },
 "nbformat": 4,
 "nbformat_minor": 2
}
