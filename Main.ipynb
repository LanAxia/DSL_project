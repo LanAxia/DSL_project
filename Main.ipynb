{
 "cells": [
  {
   "cell_type": "markdown",
   "metadata": {},
   "source": [
    "# Main"
   ]
  },
  {
   "cell_type": "markdown",
   "metadata": {},
   "source": [
    "## Import Libraries"
   ]
  },
  {
   "cell_type": "code",
   "execution_count": 1,
   "metadata": {
    "notebookRunGroups": {
     "groupValue": "1"
    }
   },
   "outputs": [],
   "source": [
    "# import libraries\n",
    "import numpy as np\n",
    "import pandas as pd\n",
    "import pickle as pkl\n",
    "\n",
    "import torch\n",
    "import torch.nn as nn\n",
    "from torch.nn.functional import one_hot \n",
    "from torch.utils.data import Dataset, DataLoader\n",
    "\n",
    "from TorchCRF import CRF\n",
    "\n",
    "SAVE = False"
   ]
  },
  {
   "cell_type": "markdown",
   "metadata": {},
   "source": [
    "## Process Data"
   ]
  },
  {
   "cell_type": "code",
   "execution_count": null,
   "metadata": {},
   "outputs": [],
   "source": [
    "# 去除数据中的引号\n",
    "data = pd.read_csv(\"./Data/Substrate_search.txt\", sep='\\t', header=None, encoding='utf-8')\n",
    "data = data.map(lambda x: str(x).strip(\"'\") if isinstance(x, str) else x)\n",
    "\n",
    "if SAVE is True:\n",
    "    data.to_csv(\"./Data/Substrate_search_processed.csv\", sep='\\t', index=False, header=False, encoding=\"utf-8\")\n",
    "data.head(5)"
   ]
  },
  {
   "cell_type": "code",
   "execution_count": 2,
   "metadata": {
    "notebookRunGroups": {
     "groupValue": "1"
    }
   },
   "outputs": [
    {
     "name": "stderr",
     "output_type": "stream",
     "text": [
      "C:\\Users\\Hongyi LAN\\AppData\\Local\\Temp\\ipykernel_39564\\972342285.py:2: DtypeWarning: Columns (18) have mixed types. Specify dtype option on import or set low_memory=False.\n",
      "  data = pd.read_csv(\"./Data/Substrate_search_processed.csv\", sep='\\t', header=None, encoding='utf-8')\n"
     ]
    },
    {
     "data": {
      "text/html": [
       "<div>\n",
       "<style scoped>\n",
       "    .dataframe tbody tr th:only-of-type {\n",
       "        vertical-align: middle;\n",
       "    }\n",
       "\n",
       "    .dataframe tbody tr th {\n",
       "        vertical-align: top;\n",
       "    }\n",
       "\n",
       "    .dataframe thead th {\n",
       "        text-align: right;\n",
       "    }\n",
       "</style>\n",
       "<table border=\"1\" class=\"dataframe\">\n",
       "  <thead>\n",
       "    <tr style=\"text-align: right;\">\n",
       "      <th></th>\n",
       "      <th>protease</th>\n",
       "      <th>0</th>\n",
       "      <th>1</th>\n",
       "      <th>2</th>\n",
       "      <th>3</th>\n",
       "      <th>4</th>\n",
       "      <th>5</th>\n",
       "      <th>6</th>\n",
       "      <th>7</th>\n",
       "    </tr>\n",
       "  </thead>\n",
       "  <tbody>\n",
       "    <tr>\n",
       "      <th>0</th>\n",
       "      <td>A01.001</td>\n",
       "      <td>-</td>\n",
       "      <td>-</td>\n",
       "      <td>Ac</td>\n",
       "      <td>Phe</td>\n",
       "      <td>TyI</td>\n",
       "      <td>-</td>\n",
       "      <td>-</td>\n",
       "      <td>-</td>\n",
       "    </tr>\n",
       "    <tr>\n",
       "      <th>1</th>\n",
       "      <td>A01.001</td>\n",
       "      <td>Arg</td>\n",
       "      <td>Thr</td>\n",
       "      <td>Ile</td>\n",
       "      <td>Ala</td>\n",
       "      <td>Val</td>\n",
       "      <td>Asn</td>\n",
       "      <td>Tyr</td>\n",
       "      <td>Thr</td>\n",
       "    </tr>\n",
       "    <tr>\n",
       "      <th>2</th>\n",
       "      <td>A01.001</td>\n",
       "      <td>Thr</td>\n",
       "      <td>Thr</td>\n",
       "      <td>Thr</td>\n",
       "      <td>Ala</td>\n",
       "      <td>Ile</td>\n",
       "      <td>Leu</td>\n",
       "      <td>Asp</td>\n",
       "      <td>Phe</td>\n",
       "    </tr>\n",
       "    <tr>\n",
       "      <th>3</th>\n",
       "      <td>A01.001</td>\n",
       "      <td>Gly</td>\n",
       "      <td>Val</td>\n",
       "      <td>Thr</td>\n",
       "      <td>Ala</td>\n",
       "      <td>Tyr</td>\n",
       "      <td>Thr</td>\n",
       "      <td>Val</td>\n",
       "      <td>Asn</td>\n",
       "    </tr>\n",
       "    <tr>\n",
       "      <th>4</th>\n",
       "      <td>A01.001</td>\n",
       "      <td>Pro</td>\n",
       "      <td>Ser</td>\n",
       "      <td>Leu</td>\n",
       "      <td>Ala</td>\n",
       "      <td>Cys</td>\n",
       "      <td>Ala</td>\n",
       "      <td>Glu</td>\n",
       "      <td>Asn</td>\n",
       "    </tr>\n",
       "  </tbody>\n",
       "</table>\n",
       "</div>"
      ],
      "text/plain": [
       "  protease    0    1    2    3    4    5    6    7\n",
       "0  A01.001    -    -   Ac  Phe  TyI    -    -    -\n",
       "1  A01.001  Arg  Thr  Ile  Ala  Val  Asn  Tyr  Thr\n",
       "2  A01.001  Thr  Thr  Thr  Ala  Ile  Leu  Asp  Phe\n",
       "3  A01.001  Gly  Val  Thr  Ala  Tyr  Thr  Val  Asn\n",
       "4  A01.001  Pro  Ser  Leu  Ala  Cys  Ala  Glu  Asn"
      ]
     },
     "execution_count": 2,
     "metadata": {},
     "output_type": "execute_result"
    }
   ],
   "source": [
    "# 只保留蛋白酶名和肽链信息\n",
    "data = pd.read_csv(\"./Data/Substrate_search_processed.csv\", sep='\\t', header=None, encoding='utf-8')\n",
    "\n",
    "protease_peptide = pd.concat((data[[1]], data.iloc[:, 4:12]), axis=1)  # 拼接蛋白酶和肽链信息\n",
    "protease_peptide.columns = [\"protease\"] + [i for i in range(8)]  # 修改列名\n",
    "protease_peptide = protease_peptide.fillna(\"?\")  # 填充NaN值\n",
    "\n",
    "if SAVE is True:\n",
    "    protease_peptide.to_csv(\"./Data/Protease_Peptides.csv\", sep='\\t', header=True, index=False)  # 保存数据\n",
    "protease_peptide.head(5)"
   ]
  },
  {
   "cell_type": "markdown",
   "metadata": {},
   "source": [
    "## Pro2Pep"
   ]
  },
  {
   "cell_type": "code",
   "execution_count": 3,
   "metadata": {},
   "outputs": [],
   "source": [
    "# 生成x\n",
    "\n",
    "# 生成蛋白酶名称和id的映射\n",
    "proname2id = dict()\n",
    "i = 0\n",
    "for proname in protease_peptide[\"protease\"].unique():\n",
    "    if proname not in proname2id:\n",
    "        proname2id[proname] = i\n",
    "        i += 1\n",
    "    else:\n",
    "        continue\n",
    "\n",
    "# 生成训练数据的x\n",
    "proname_x = protease_peptide[\"protease\"]\n",
    "x = np.zeros_like(proname_x, dtype=np.int32)\n",
    "for i, proname in enumerate(proname_x):\n",
    "    x[i] = proname2id[proname]\n",
    "x = torch.from_numpy(x).long()\n",
    "\n",
    "# 生成onehot编码\n",
    "x = one_hot(x)\n",
    "\n",
    "# 保存proname2id\n",
    "if SAVE is True:\n",
    "    with open(\"./Cache/proname2id.pkl\", \"wb+\") as f:\n",
    "        pkl.dump(proname2id, f)"
   ]
  },
  {
   "cell_type": "code",
   "execution_count": 18,
   "metadata": {},
   "outputs": [],
   "source": [
    "# 生成y\n",
    "\n",
    "# 生成氨基酸和id的映射\n",
    "pepname2id = {\"-\": 0, \"?\": 1}  # 占位符\"-\"默认为0，在onehot编码中占第一位\n",
    "i = 2\n",
    "for pepname in protease_peptide.iloc[:, 1:].values.flatten():\n",
    "    pepname = pepname.lower()\n",
    "    if pepname not in pepname2id:\n",
    "        pepname2id[pepname] = i\n",
    "        i += 1\n",
    "    else:\n",
    "        continue\n",
    "\n",
    "# 生成训练数据的y\n",
    "pepname_y = protease_peptide.iloc[:, 1:].values\n",
    "y = np.zeros_like(pepname_y, dtype=np.int32)\n",
    "for row_i, row in enumerate(pepname_y):\n",
    "    for col_i, pepname in enumerate(row):\n",
    "        y[row_i, col_i] = pepname2id[pepname.lower()]\n",
    "y = torch.from_numpy(y).long()\n",
    "y = one_hot(y)"
   ]
  },
  {
   "cell_type": "code",
   "execution_count": 27,
   "metadata": {},
   "outputs": [],
   "source": [
    "# 构建DataLoader\n",
    "class Pro2Pep_Dataset(Dataset):\n",
    "    def __init__(self, x, y) -> None:\n",
    "        self.x = x\n",
    "        self.y = y\n",
    "\n",
    "\n",
    "    def __getitem__(self, index) -> tuple:\n",
    "        return self.x[index], self.y[index]\n",
    "\n",
    "\n",
    "    def __len__(self) -> int:\n",
    "        return self.x.size()[0]\n",
    "\n",
    "pro2pep_dataset = Pro2Pep_Dataset(x, y)\n",
    "pro2pep_dataloader = DataLoader(pro2pep_dataset, batch_size=32, shuffle=True)"
   ]
  },
  {
   "cell_type": "code",
   "execution_count": null,
   "metadata": {},
   "outputs": [],
   "source": [
    "# 构建Pro2Pep模型\n",
    "class Pro2Pep(nn.Module):\n",
    "    def __init__(self, input_size, hidden_size, output_size) -> None:\n",
    "        super(Pro2Pep, self).__init__()\n",
    "        self.fc1 = nn.Linear(input_size, hidden_size)\n",
    "        self.lstm = nn.LSTM(hidden_size, hidden_size, batch_first=True)\n",
    "        self.crf = CRF(output_size)\n",
    "    \n",
    "    def forward(self, x: torch.Tensor):\n",
    "        output = self.fc1(x)\n",
    "        output, h = self.lstm(output)\n"
   ]
  }
 ],
 "metadata": {
  "kernelspec": {
   "display_name": "dsl",
   "language": "python",
   "name": "python3"
  },
  "language_info": {
   "codemirror_mode": {
    "name": "ipython",
    "version": 3
   },
   "file_extension": ".py",
   "mimetype": "text/x-python",
   "name": "python",
   "nbconvert_exporter": "python",
   "pygments_lexer": "ipython3",
   "version": "3.10.14"
  }
 },
 "nbformat": 4,
 "nbformat_minor": 2
}
