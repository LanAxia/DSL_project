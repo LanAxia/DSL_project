{
 "cells": [
  {
   "cell_type": "markdown",
   "metadata": {},
   "source": [
    "# ML Experiment\n",
    "\n",
    "We test the performance of several machine learning models on the MMP dataset. The models include linear regression, decision tree regression, XGBoost, CatBoost, and a simple neural network. We use 5-fold cross-validation to evaluate the performance of the models. The evaluation metrics include mean squared error, mean absolute error, root mean squared error, area under the curve, f1 score, precision, and recall. The results are saved in the `Result` folder."
   ]
  },
  {
   "cell_type": "markdown",
   "metadata": {},
   "source": [
    "## Import Libraries"
   ]
  },
  {
   "cell_type": "code",
   "execution_count": 1,
   "metadata": {
    "ExecuteTime": {
     "end_time": "2024-06-01T09:58:31.327546200Z",
     "start_time": "2024-06-01T09:58:28.906325700Z"
    }
   },
   "outputs": [],
   "source": [
    "# import libraries\n",
    "import numpy as np\n",
    "import pandas as pd\n",
    "from tqdm import tqdm\n",
    "from collections import Counter\n",
    "\n",
    "import sklearn\n",
    "from sklearn.model_selection import KFold\n",
    "from sklearn.linear_model import LinearRegression\n",
    "from sklearn.tree import DecisionTreeRegressor\n",
    "from sklearn.metrics import f1_score, precision_score, recall_score, roc_auc_score, mean_squared_error, mean_absolute_error\n",
    "\n",
    "from xgboost import XGBRegressor\n",
    "from catboost import CatBoostRegressor\n",
    "\n",
    "import torch\n",
    "import torch.nn as nn\n",
    "from torch.utils.data import Dataset, DataLoader\n",
    "import torch.nn.functional as F\n",
    "import torch.optim as optim\n",
    "\n",
    "\n",
    "# import other files\n",
    "from extract_features import load_features\n",
    "from model_training import PeptidesDataLoader\n",
    "\n",
    "# constant\n",
    "device = torch.device(\"cuda\") if torch.cuda.is_available() else torch.device(\"cpu\")"
   ]
  },
  {
   "cell_type": "markdown",
   "metadata": {},
   "source": [
    "## Model Conparation"
   ]
  },
  {
   "cell_type": "code",
   "execution_count": 2,
   "metadata": {
    "ExecuteTime": {
     "end_time": "2024-06-01T09:58:31.945586Z",
     "start_time": "2024-06-01T09:58:31.329521200Z"
    }
   },
   "outputs": [],
   "source": [
    "# load data and preprocess\n",
    "data = pd.read_csv(\"./Data/processed_peptides10.csv\")  # load data\n",
    "\n",
    "# get peptide sequences\n",
    "peptides = data.iloc[:, 0].values.tolist()  # ['Peptide1'...]\n",
    "\n",
    "# load extracted features\n",
    "features_x = load_features().iloc[:, 1:].values\n",
    "\n",
    "# extract mmp labels\n",
    "all_mmp_y = data.iloc[:, 1:].values"
   ]
  },
  {
   "cell_type": "markdown",
   "metadata": {},
   "source": [
    "### validate ML models"
   ]
  },
  {
   "cell_type": "code",
   "execution_count": 3,
   "metadata": {
    "notebookRunGroups": {
     "groupValue": "1"
    },
    "ExecuteTime": {
     "end_time": "2024-06-01T09:58:31.961585500Z",
     "start_time": "2024-06-01T09:58:31.947585Z"
    }
   },
   "outputs": [],
   "source": [
    "# define the function to validate\n",
    "def validate(model: object, x: np.array, y: np.array):\n",
    "    # validate with KFold cross-validation\n",
    "    validation = np.zeros([2] + list(y.shape))  # record prediction and truth\n",
    "    kf = KFold(n_splits=5, random_state=33, shuffle=True)\n",
    "    for i, (train_id, test_id) in tqdm(enumerate(kf.split(x)), desc=\"Testing on all MMPs\", total=5):\n",
    "        for mmp_i in range(y.shape[1]):\n",
    "            train_x, train_y = x[train_id], y[:, mmp_i][train_id]\n",
    "            test_x, test_y = x[test_id], y[:, mmp_i][test_id]\n",
    "\n",
    "            model.fit(train_x, train_y)\n",
    "            pred = model.predict(test_x)\n",
    "            test_y = test_y\n",
    "            pred = pred\n",
    "\n",
    "            # record true labels and prediction\n",
    "            validation[0, test_id, mmp_i] = pred\n",
    "            validation[1, test_id, mmp_i] = test_y\n",
    "    return validation"
   ]
  },
  {
   "cell_type": "code",
   "execution_count": 4,
   "metadata": {
    "ExecuteTime": {
     "end_time": "2024-06-01T10:02:42.756770200Z",
     "start_time": "2024-06-01T09:58:34.202400800Z"
    }
   },
   "outputs": [
    {
     "name": "stderr",
     "output_type": "stream",
     "text": [
      "Testing on all MMPs: 100%|██████████| 5/5 [04:08<00:00, 49.70s/it]\n"
     ]
    }
   ],
   "source": [
    "# linear regression\n",
    "lr_model = LinearRegression()\n",
    "lr_validation = validate(lr_model, features_x, all_mmp_y)\n",
    "np.save(\"./Result/lr_validation.npy\", lr_validation)"
   ]
  },
  {
   "cell_type": "code",
   "execution_count": 28,
   "metadata": {},
   "outputs": [
    {
     "name": "stderr",
     "output_type": "stream",
     "text": [
      "Testing on all MMPs: 100%|██████████| 5/5 [00:47<00:00,  9.53s/it]\n"
     ]
    }
   ],
   "source": [
    "# DTR\n",
    "dtr_model = DecisionTreeRegressor(criterion=\"squared_error\", max_depth=10)\n",
    "dtr_validation = validate(dtr_model, features_x, all_mmp_y)\n",
    "np.save(\"./Result/dtr_validation.npy\", dtr_validation)"
   ]
  },
  {
   "cell_type": "code",
   "execution_count": 5,
   "metadata": {},
   "outputs": [
    {
     "name": "stderr",
     "output_type": "stream",
     "text": [
      "Testing on all MMPs: 100%|██████████| 5/5 [02:11<00:00, 26.27s/it]\n"
     ]
    }
   ],
   "source": [
    "# XGBoost\n",
    "xgb_model = XGBRegressor(n_estimators=100, max_depth=10)\n",
    "xgb_validation = validate(xgb_model, features_x, all_mmp_y)\n",
    "np.save(\"./Result/xgb_validation.npy\", xgb_validation)"
   ]
  },
  {
   "cell_type": "code",
   "execution_count": 4,
   "metadata": {},
   "outputs": [
    {
     "name": "stderr",
     "output_type": "stream",
     "text": [
      "Testing on all MMPs: 100%|██████████| 5/5 [1:38:47<00:00, 1185.47s/it]\n"
     ]
    }
   ],
   "source": [
    "# Catboost\n",
    "cat_model = CatBoostRegressor(iterations=1000, depth=10, learning_rate=0.1, loss_function=\"RMSE\", verbose=False)\n",
    "cat_validation = validate(cat_model, features_x, all_mmp_y)\n",
    "np.save(\"./Result/cat_validation.npy\", cat_validation)"
   ]
  },
  {
   "cell_type": "code",
   "execution_count": 5,
   "metadata": {
    "ExecuteTime": {
     "end_time": "2024-06-01T10:03:40.931075100Z",
     "start_time": "2024-06-01T10:02:42.763771400Z"
    }
   },
   "outputs": [
    {
     "name": "stderr",
     "output_type": "stream",
     "text": [
      "Testing on all MMPs: 100%|██████████| 5/5 [00:58<00:00, 11.63s/it]\n"
     ]
    }
   ],
   "source": [
    "# Neural Network\n",
    "class NN(nn.Module):\n",
    "    def __init__(self, input_size, hidden_size, output_size):\n",
    "        super(NN, self).__init__()\n",
    "        self.fc1 = nn.Linear(input_size, hidden_size)\n",
    "        self.dropout1 = nn.Dropout(0.5)\n",
    "        self.fc2 = nn.Linear(hidden_size, hidden_size)\n",
    "        self.dropout2 = nn.Dropout(0.5)\n",
    "        self.fc3 = nn.Linear(hidden_size, output_size)\n",
    "        self.device = torch.device(\"cuda\") if torch.cuda.is_available() else torch.device(\"cpu\")\n",
    "    \n",
    "    def forward(self, x):\n",
    "        output = F.leaky_relu(self.fc1(x))  # use leaky_relu activation\n",
    "        output = self.dropout1(output)\n",
    "        output = F.leaky_relu(self.fc2(output))\n",
    "        output = self.dropout2(output)\n",
    "        output = self.fc3(output)\n",
    "        return output\n",
    "    \n",
    "    def fit(self, x: np.array, y: np.array):\n",
    "        self.to(device)\n",
    "        self.train()\n",
    "        x = torch.from_numpy(x).float()\n",
    "        y = torch.from_numpy(y).float()\n",
    "        dataloader = PeptidesDataLoader([0] * x.shape[0], x, y, batch_size=512, shuffle=True)\n",
    "        optimizer = optim.Adam(self.parameters(), lr=0.001)\n",
    "        criterion = nn.MSELoss()\n",
    "        for i in range(100):\n",
    "            for epoch_peptides, epoch_x, epoch_y in dataloader:\n",
    "                optimizer.zero_grad()\n",
    "                epoch_x, epoch_y = epoch_x.to(self.device), epoch_y.to(self.device)\n",
    "                output = self.forward(epoch_x)\n",
    "                loss = criterion(output, epoch_y)\n",
    "                loss.backward()\n",
    "                optimizer.step()\n",
    "        return\n",
    "        \n",
    "    def predict(self, x):\n",
    "        self.to(device)\n",
    "        self.eval()\n",
    "        x = torch.from_numpy(x).float()\n",
    "        dataloader = PeptidesDataLoader([0] * x.shape[0], x, np.zeros_like(x), batch_size=8192, shuffle=False)\n",
    "        pred = []\n",
    "        with torch.no_grad():\n",
    "            for _, epoch_x, _ in dataloader:\n",
    "                epoch_x = epoch_x.to(self.device)\n",
    "                output = self(epoch_x)\n",
    "                pred.append(output.to(\"cpu\").detach().numpy())\n",
    "        pred = np.concatenate(pred, axis=0)\n",
    "        return pred\n",
    "\n",
    "# test the performance of NN\n",
    "kf = KFold(n_splits=5, random_state=33, shuffle=True)\n",
    "nn_validation = np.zeros([2] + list(all_mmp_y.shape))\n",
    "for i, (train_id, test_id) in tqdm(enumerate(kf.split(features_x)), desc=\"Testing on all MMPs\", total=5):\n",
    "    nn_model = NN(features_x.shape[1], 512, all_mmp_y.shape[1])\n",
    "    train_x, train_y = features_x[train_id], all_mmp_y[train_id]\n",
    "    test_x, test_y = features_x[test_id], all_mmp_y[test_id]\n",
    "    nn_model.fit(train_x, train_y)\n",
    "    pred = nn_model.predict(test_x)\n",
    "    nn_validation[0, test_id, :] = pred\n",
    "    nn_validation[1, test_id, :] = test_y\n",
    "np.save(\"./Result/nn_validation.npy\", nn_validation)"
   ]
  }
 ],
 "metadata": {
  "kernelspec": {
   "display_name": "dsl_project",
   "language": "python",
   "name": "python3"
  },
  "language_info": {
   "codemirror_mode": {
    "name": "ipython",
    "version": 3
   },
   "file_extension": ".py",
   "mimetype": "text/x-python",
   "name": "python",
   "nbconvert_exporter": "python",
   "pygments_lexer": "ipython3",
   "version": "3.10.14"
  }
 },
 "nbformat": 4,
 "nbformat_minor": 2
}
